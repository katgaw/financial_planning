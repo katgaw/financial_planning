{
 "cells": [
  {
   "cell_type": "markdown",
   "metadata": {},
   "source": [
    "# Financial Planning with APIs and Simulations\n",
    "\n",
    "Create two financial analysis tools by using a single Jupyter notebook:\n",
    "\n",
    "Part 1: A financial planner for emergencies. The members will be able to use this tool to visualize their current savings. The members can then determine if they have enough reserves for an emergency fund.\n",
    "\n",
    "Part 2: A financial planner for retirement. This tool will forecast the performance of their retirement portfolio in 30 years. To do this, the tool will make an Alpaca API call via the Alpaca SDK to get historical price data for use in Monte Carlo simulations.\n",
    "\n"
   ]
  },
  {
   "cell_type": "code",
   "execution_count": 81,
   "metadata": {},
   "outputs": [],
   "source": [
    "# Import the required libraries and dependencies\n",
    "import os\n",
    "import requests\n",
    "import json\n",
    "import pandas as pd\n",
    "from dotenv import load_dotenv\n",
    "import alpaca_trade_api as tradeapi\n",
    "from MCForecastTools import MCSimulation\n",
    "%matplotlib inline\n",
    "\n",
    "import warnings\n",
    "warnings.filterwarnings('ignore')"
   ]
  },
  {
   "cell_type": "code",
   "execution_count": 82,
   "metadata": {},
   "outputs": [
    {
     "data": {
      "text/plain": [
       "True"
      ]
     },
     "execution_count": 82,
     "metadata": {},
     "output_type": "execute_result"
    }
   ],
   "source": [
    "# Load the environment variables from the .env file\n",
    "#by calling the load_dotenv function\n",
    "load_dotenv()"
   ]
  },
  {
   "cell_type": "markdown",
   "metadata": {},
   "source": [
    "## Part 1: Create a Financial Planner for Emergencies"
   ]
  },
  {
   "cell_type": "markdown",
   "metadata": {},
   "source": [
    "### Evaluate the Cryptocurrency Wallet by Using the Requests Library\n",
    "\n",
    "In this section, you’ll determine the current value of a member’s cryptocurrency wallet. You’ll collect the current prices for the Bitcoin and Ethereum cryptocurrencies by using the Python Requests library. For the prototype, you’ll assume that the member holds the 1.2 Bitcoins (BTC) and 5.3 Ethereum coins (ETH). To do all this, complete the following steps:\n",
    "\n",
    "1. Create a variable named `monthly_income`, and set its value to `12000`.\n",
    "\n",
    "2. Use the Requests library to get the current price (in US dollars) of Bitcoin (BTC) and Ethereum (ETH) by using the API endpoints that the starter code supplies.\n",
    "\n",
    "3. Navigate the JSON response object to access the current price of each coin, and store each in a variable.\n",
    "\n",
    "    > **Hint** Note the specific identifier for each cryptocurrency in the API JSON response. The Bitcoin identifier is `1`, and the Ethereum identifier is `1027`.\n",
    "\n",
    "4. Calculate the value, in US dollars, of the current amount of each cryptocurrency and of the entire cryptocurrency wallet.\n",
    "\n"
   ]
  },
  {
   "cell_type": "code",
   "execution_count": 83,
   "metadata": {},
   "outputs": [],
   "source": [
    "# The current number of coins for each cryptocurrency asset held in the portfolio.\n",
    "btc_coins = 1.2\n",
    "eth_coins = 5.3"
   ]
  },
  {
   "cell_type": "markdown",
   "metadata": {},
   "source": [
    "#### Step 1: Create a variable named `monthly_income`, and set its value to `12000`."
   ]
  },
  {
   "cell_type": "code",
   "execution_count": 84,
   "metadata": {},
   "outputs": [],
   "source": [
    "# The monthly amount for the member's household income\n",
    "monthly_income=12000"
   ]
  },
  {
   "cell_type": "markdown",
   "metadata": {},
   "source": [
    "#### Review the endpoint URLs for the API calls to Free Crypto API in order to get the current pricing information for both BTC and ETH."
   ]
  },
  {
   "cell_type": "code",
   "execution_count": 85,
   "metadata": {},
   "outputs": [],
   "source": [
    "# The Free Crypto API Call endpoint URLs for the held cryptocurrency assets\n",
    "btc_url = \"https://api.alternative.me/v2/ticker/Bitcoin/?convert=USD\"\n",
    "eth_url = \"https://api.alternative.me/v2/ticker/Ethereum/?convert=USD\""
   ]
  },
  {
   "cell_type": "markdown",
   "metadata": {},
   "source": [
    "#### Step 2. Use the Requests library to get the current price (in US dollars) of Bitcoin (BTC) and Ethereum (ETH) by using the API endpoints that the starter code supplied."
   ]
  },
  {
   "cell_type": "code",
   "execution_count": 86,
   "metadata": {},
   "outputs": [
    {
     "name": "stdout",
     "output_type": "stream",
     "text": [
      "{\n",
      "   \"data\": {\n",
      "      \"1\": {\n",
      "         \"circulating_supply\": 19132987,\n",
      "         \"id\": 1,\n",
      "         \"last_updated\": 1661543065,\n",
      "         \"max_supply\": 21000000,\n",
      "         \"name\": \"Bitcoin\",\n",
      "         \"quotes\": {\n",
      "            \"USD\": {\n",
      "               \"market_cap\": 395626555155,\n",
      "               \"percent_change_1h\": -0.0797683873915938,\n",
      "               \"percent_change_24h\": -4.51119670118414,\n",
      "               \"percent_change_7d\": -11.1062626487618,\n",
      "               \"percentage_change_1h\": -0.0797683873915938,\n",
      "               \"percentage_change_24h\": -4.51119670118414,\n",
      "               \"percentage_change_7d\": -11.1062626487618,\n",
      "               \"price\": 20666.0,\n",
      "               \"volume_24h\": 33623538744\n",
      "            }\n",
      "         },\n",
      "         \"rank\": 1,\n",
      "         \"symbol\": \"BTC\",\n",
      "         \"total_supply\": 19132987,\n",
      "         \"website_slug\": \"bitcoin\"\n",
      "      }\n",
      "   },\n",
      "   \"metadata\": {\n",
      "      \"error\": null,\n",
      "      \"num_cryptocurrencies\": 3116,\n",
      "      \"timestamp\": 1661543065\n",
      "   }\n",
      "}\n"
     ]
    }
   ],
   "source": [
    "# Using the Python requests library, make an API call to access the current price of BTC\n",
    "btc_response = requests.get(btc_url).json()\n",
    "\n",
    "# Use the json.dumps function to review the response data from the API call\n",
    "# Use the indent and sort_keys parameters to make the response object readable\n",
    "print(json.dumps(btc_response,indent=3,sort_keys=True))\n"
   ]
  },
  {
   "cell_type": "code",
   "execution_count": 87,
   "metadata": {},
   "outputs": [
    {
     "name": "stdout",
     "output_type": "stream",
     "text": [
      "{\n",
      "   \"data\": {\n",
      "      \"1027\": {\n",
      "         \"circulating_supply\": 120261880,\n",
      "         \"id\": 1027,\n",
      "         \"last_updated\": 1661543075,\n",
      "         \"max_supply\": 120261880,\n",
      "         \"name\": \"Ethereum\",\n",
      "         \"quotes\": {\n",
      "            \"USD\": {\n",
      "               \"market_cap\": 187507309403,\n",
      "               \"percent_change_1h\": 0.266708521886053,\n",
      "               \"percent_change_24h\": -8.8398980328498,\n",
      "               \"percent_change_7d\": -15.6837949929262,\n",
      "               \"percentage_change_1h\": 0.266708521886053,\n",
      "               \"percentage_change_24h\": -8.8398980328498,\n",
      "               \"percentage_change_7d\": -15.6837949929262,\n",
      "               \"price\": 1559.94,\n",
      "               \"volume_24h\": 21575451429\n",
      "            }\n",
      "         },\n",
      "         \"rank\": 2,\n",
      "         \"symbol\": \"ETH\",\n",
      "         \"total_supply\": 120261880,\n",
      "         \"website_slug\": \"ethereum\"\n",
      "      }\n",
      "   },\n",
      "   \"metadata\": {\n",
      "      \"error\": null,\n",
      "      \"num_cryptocurrencies\": 3116,\n",
      "      \"timestamp\": 1661543075\n",
      "   }\n",
      "}\n"
     ]
    }
   ],
   "source": [
    "# Using the Python requests library, make an API call to access the current price ETH\n",
    "eth_response = requests.get(eth_url).json()\n",
    "\n",
    "# Use the json.dumps function to review the response data from the API call\n",
    "# Use the indent and sort_keys parameters to make the response object readable\n",
    "print(json.dumps(eth_response,indent=3,sort_keys=True))\n"
   ]
  },
  {
   "cell_type": "markdown",
   "metadata": {},
   "source": [
    "#### Step 3: Navigate the JSON response object to access the current price of each coin, and store each in a variable."
   ]
  },
  {
   "cell_type": "code",
   "execution_count": 88,
   "metadata": {},
   "outputs": [
    {
     "name": "stdout",
     "output_type": "stream",
     "text": [
      "The current price of BTC is $20666.0\n"
     ]
    }
   ],
   "source": [
    "# Navigate the BTC response object to access the current price of BTC\n",
    "btc_price = btc_response[\"data\"][\"1\"][\"quotes\"][\"USD\"][\"price\"]\n",
    "\n",
    "# Print the current price of BTC\n",
    "print(f\"The current price of BTC is ${btc_price}\")\n"
   ]
  },
  {
   "cell_type": "code",
   "execution_count": 89,
   "metadata": {},
   "outputs": [
    {
     "name": "stdout",
     "output_type": "stream",
     "text": [
      "The current price of ETH is $1559.94\n"
     ]
    }
   ],
   "source": [
    "# Navigate the BTC response object to access the current price of ETH\n",
    "eth_price = eth_response[\"data\"][\"1027\"][\"quotes\"][\"USD\"][\"price\"]\n",
    "\n",
    "# Print the current price of ETH\n",
    "print(f\"The current price of ETH is ${eth_price}\")\n"
   ]
  },
  {
   "cell_type": "markdown",
   "metadata": {},
   "source": [
    "### Step 4: Calculate the value, in US dollars, of the current amount of each cryptocurrency and of the entire cryptocurrency wallet."
   ]
  },
  {
   "cell_type": "code",
   "execution_count": 90,
   "metadata": {},
   "outputs": [
    {
     "name": "stdout",
     "output_type": "stream",
     "text": [
      "The current value of your holding in BTC is $24799.20\n"
     ]
    }
   ],
   "source": [
    "# Compute the current value of the BTC holding \n",
    "btc_value = btc_price*btc_coins\n",
    "\n",
    "# Print current value of your holding in BTC\n",
    "print(f\"The current value of your holding in BTC is ${btc_value:.2f}\")\n"
   ]
  },
  {
   "cell_type": "code",
   "execution_count": 91,
   "metadata": {},
   "outputs": [
    {
     "name": "stdout",
     "output_type": "stream",
     "text": [
      "The current value of your holding in ETH is $8267.68\n"
     ]
    }
   ],
   "source": [
    "# Compute the current value of the ETH holding \n",
    "eth_value = eth_price*eth_coins\n",
    "\n",
    "# Print current value of your holding in ETH\n",
    "print(f\"The current value of your holding in ETH is ${eth_value:.2f}\")\n"
   ]
  },
  {
   "cell_type": "code",
   "execution_count": 92,
   "metadata": {},
   "outputs": [
    {
     "name": "stdout",
     "output_type": "stream",
     "text": [
      "The current cryptocurrency wallet balance is $33066.88\n"
     ]
    }
   ],
   "source": [
    "# Compute the total value of the cryptocurrency wallet\n",
    "# Add the value of the BTC holding to the value of the ETH holding\n",
    "total_crypto_wallet = btc_value + eth_value\n",
    "\n",
    "# Print current cryptocurrency wallet balance\n",
    "print(f\"The current cryptocurrency wallet balance is ${total_crypto_wallet:.2f}\")\n"
   ]
  },
  {
   "cell_type": "markdown",
   "metadata": {},
   "source": [
    "### Evaluate the Stock and Bond Holdings by Using the Alpaca SDK\n",
    "\n",
    "In this section, you’ll determine the current value of a member’s stock and bond holdings. You’ll make an API call to Alpaca via the Alpaca SDK to get the current closing prices of the SPDR S&P 500 ETF Trust (ticker: SPY) and of the iShares Core US Aggregate Bond ETF (ticker: AGG). For the prototype, assume that the member holds 110 shares of SPY, which represents the stock portion of their portfolio, and 200 shares of AGG, which represents the bond portion. To do all this, complete the following steps:\n",
    "\n",
    "1. In the `Starter_Code` folder, create an environment file (`.env`) to store the values of your Alpaca API key and Alpaca secret key.\n",
    "\n",
    "2. Set the variables for the Alpaca API and secret keys. Using the Alpaca SDK, create the Alpaca `tradeapi.REST` object. In this object, include the parameters for the Alpaca API key, the secret key, and the version number.\n",
    "\n",
    "3. Set the following parameters for the Alpaca API call:\n",
    "\n",
    "    - `tickers`: Use the tickers for the member’s stock and bond holdings.\n",
    "\n",
    "    - `timeframe`: Use a time frame of one day.\n",
    "\n",
    "    - `start_date` and `end_date`: Use the same date for these parameters, and format them with the date of the previous weekday (or `2020-08-07`). This is because you want the one closing price for the most-recent trading day.\n",
    "\n",
    "4. Get the current closing prices for `SPY` and `AGG` by using the Alpaca `get_bars` function. Format the response as a Pandas DataFrame by including the `df` property at the end of the `get_bars` function.\n",
    "\n",
    "5. Navigating the Alpaca response DataFrame, select the `SPY` and `AGG` closing prices, and store them as variables.\n",
    "\n",
    "6. Calculate the value, in US dollars, of the current amount of shares in each of the stock and bond portions of the portfolio, and print the results.\n"
   ]
  },
  {
   "cell_type": "markdown",
   "metadata": {},
   "source": [
    "#### Review the total number of shares held in both (SPY) and (AGG)."
   ]
  },
  {
   "cell_type": "code",
   "execution_count": 93,
   "metadata": {},
   "outputs": [],
   "source": [
    "# Current amount of shares held in both the stock (SPY) and bond (AGG) portion of the portfolio.\n",
    "spy_shares = 110\n",
    "agg_shares = 200\n"
   ]
  },
  {
   "cell_type": "markdown",
   "metadata": {},
   "source": [
    "#### Step 1: In the `Starter_Code` folder, create an environment file (`.env`) to store the values of your Alpaca API key and Alpaca secret key."
   ]
  },
  {
   "cell_type": "markdown",
   "metadata": {},
   "source": [
    "#### Step 2: Set the variables for the Alpaca API and secret keys. Using the Alpaca SDK, create the Alpaca `tradeapi.REST` object. In this object, include the parameters for the Alpaca API key, the secret key, and the version number."
   ]
  },
  {
   "cell_type": "code",
   "execution_count": 94,
   "metadata": {},
   "outputs": [
    {
     "name": "stdout",
     "output_type": "stream",
     "text": [
      "<class 'str'>\n",
      "<class 'str'>\n"
     ]
    }
   ],
   "source": [
    "# Set the variables for the Alpaca API and secret keys\n",
    "\n",
    "alpaca_api_key=os.getenv(\"ALPACA_API_KEY\")\n",
    "alpaca_secret_key=os.getenv(\"ALPACA_SECRET_KEY\")\n",
    "\n",
    "print(type(alpaca_api_key))\n",
    "print(type(alpaca_secret_key))\n",
    "\n",
    "#Create the Alpaca tradeapi.REST object\n",
    "\n",
    "alpaca=tradeapi.REST(\n",
    "    alpaca_api_key,\n",
    "    alpaca_secret_key,\n",
    "    api_version=\"v2\"\n",
    ")\n",
    "\n",
    "\n"
   ]
  },
  {
   "cell_type": "markdown",
   "metadata": {},
   "source": [
    "#### Step 3: Set the following parameters for the Alpaca API call:\n",
    "\n",
    "- `tickers`: Use the tickers for the member’s stock and bond holdings.\n",
    "\n",
    "- `timeframe`: Use a time frame of one day.\n",
    "\n",
    "- `start_date` and `end_date`: Use the same date for these parameters, and format them with the date of the previous weekday (or `2020-08-07`). This is because you want the one closing price for the most-recent trading day.\n"
   ]
  },
  {
   "cell_type": "code",
   "execution_count": 95,
   "metadata": {},
   "outputs": [],
   "source": [
    "# Set the tickers for both the bond and stock portion of the portfolio\n",
    "tickers=['SPY','AGG']\n",
    "\n",
    "# Set timeframe to 1Day\n",
    "timeframe='1Day'\n",
    "\n",
    "# Format current date as ISO format\n",
    "# Set both the start and end date at the date of your prior weekday \n",
    "# This will give you the closing price of the previous trading day\n",
    "# Alternatively you can use a start and end date of 2020-08-07\n",
    "start_date=['2022-08-24']\n",
    "end_date=['2022-08-24']\n",
    "\n"
   ]
  },
  {
   "cell_type": "markdown",
   "metadata": {},
   "source": [
    "#### Step 4: Get the current closing prices for `SPY` and `AGG` by using the Alpaca `get_bars` function. Format the response as a Pandas DataFrame by including the `df` property at the end of the `get_bars` function."
   ]
  },
  {
   "cell_type": "code",
   "execution_count": 96,
   "metadata": {},
   "outputs": [
    {
     "data": {
      "text/html": [
       "<div>\n",
       "<style scoped>\n",
       "    .dataframe tbody tr th:only-of-type {\n",
       "        vertical-align: middle;\n",
       "    }\n",
       "\n",
       "    .dataframe tbody tr th {\n",
       "        vertical-align: top;\n",
       "    }\n",
       "\n",
       "    .dataframe thead tr th {\n",
       "        text-align: left;\n",
       "    }\n",
       "\n",
       "    .dataframe thead tr:last-of-type th {\n",
       "        text-align: right;\n",
       "    }\n",
       "</style>\n",
       "<table border=\"1\" class=\"dataframe\">\n",
       "  <thead>\n",
       "    <tr>\n",
       "      <th></th>\n",
       "      <th colspan=\"7\" halign=\"left\">SPY</th>\n",
       "      <th colspan=\"7\" halign=\"left\">AGG</th>\n",
       "    </tr>\n",
       "    <tr>\n",
       "      <th></th>\n",
       "      <th>open</th>\n",
       "      <th>high</th>\n",
       "      <th>low</th>\n",
       "      <th>close</th>\n",
       "      <th>volume</th>\n",
       "      <th>trade_count</th>\n",
       "      <th>vwap</th>\n",
       "      <th>open</th>\n",
       "      <th>high</th>\n",
       "      <th>low</th>\n",
       "      <th>close</th>\n",
       "      <th>volume</th>\n",
       "      <th>trade_count</th>\n",
       "      <th>vwap</th>\n",
       "    </tr>\n",
       "    <tr>\n",
       "      <th>timestamp</th>\n",
       "      <th></th>\n",
       "      <th></th>\n",
       "      <th></th>\n",
       "      <th></th>\n",
       "      <th></th>\n",
       "      <th></th>\n",
       "      <th></th>\n",
       "      <th></th>\n",
       "      <th></th>\n",
       "      <th></th>\n",
       "      <th></th>\n",
       "      <th></th>\n",
       "      <th></th>\n",
       "      <th></th>\n",
       "    </tr>\n",
       "  </thead>\n",
       "  <tbody>\n",
       "    <tr>\n",
       "      <th>2022-08-24 04:00:00+00:00</th>\n",
       "      <td>412.1</td>\n",
       "      <td>415.1101</td>\n",
       "      <td>411.39</td>\n",
       "      <td>413.67</td>\n",
       "      <td>48983049</td>\n",
       "      <td>334281</td>\n",
       "      <td>413.383226</td>\n",
       "      <td>101.35</td>\n",
       "      <td>101.395</td>\n",
       "      <td>101.15</td>\n",
       "      <td>101.24</td>\n",
       "      <td>5397673</td>\n",
       "      <td>19881</td>\n",
       "      <td>101.259133</td>\n",
       "    </tr>\n",
       "  </tbody>\n",
       "</table>\n",
       "</div>"
      ],
      "text/plain": [
       "                             SPY                                      \\\n",
       "                            open      high     low   close    volume   \n",
       "timestamp                                                              \n",
       "2022-08-24 04:00:00+00:00  412.1  415.1101  411.39  413.67  48983049   \n",
       "\n",
       "                                                      AGG                   \\\n",
       "                          trade_count        vwap    open     high     low   \n",
       "timestamp                                                                    \n",
       "2022-08-24 04:00:00+00:00      334281  413.383226  101.35  101.395  101.15   \n",
       "\n",
       "                                                                    \n",
       "                            close   volume trade_count        vwap  \n",
       "timestamp                                                           \n",
       "2022-08-24 04:00:00+00:00  101.24  5397673       19881  101.259133  "
      ]
     },
     "execution_count": 96,
     "metadata": {},
     "output_type": "execute_result"
    }
   ],
   "source": [
    "# Use the Alpaca get_bars function to get current closing prices the portfolio\n",
    "# Be sure to set the `df` property after the function to format the response object as a DataFrame\n",
    "prices_df=alpaca.get_bars(\n",
    "    tickers,\n",
    "    timeframe,\n",
    "    start=start_date,\n",
    "    end=end_date\n",
    ").df\n",
    "\n",
    "# Reorganize the DataFrame\n",
    "# Separate ticker data\n",
    "SPY=prices_df[prices_df['symbol']=='SPY'].drop('symbol',axis=1)\n",
    "AGG=prices_df[prices_df['symbol']=='AGG'].drop('symbol',axis=1)\n",
    "\n",
    "# Concatenate the ticker DataFrames\n",
    "df_portfolio=pd.concat([SPY,AGG],axis=1,keys=['SPY','AGG'])\n",
    "\n",
    "# Review the first 5 rows of the Alpaca DataFrame\n",
    "df_portfolio.head()\n"
   ]
  },
  {
   "cell_type": "markdown",
   "metadata": {},
   "source": [
    "#### Step 5: Navigating the Alpaca response DataFrame, select the `SPY` and `AGG` closing prices, and store them as variables."
   ]
  },
  {
   "cell_type": "code",
   "execution_count": 97,
   "metadata": {},
   "outputs": [
    {
     "name": "stdout",
     "output_type": "stream",
     "text": [
      "The AGG closing price is $101.24\n"
     ]
    }
   ],
   "source": [
    "# Access the closing price for AGG from the Alpaca DataFrame\n",
    "# Converting the value to a floating point number\n",
    "agg_close_price = float(df_portfolio['AGG']['close'])\n",
    "\n",
    "# Print the AGG closing price\n",
    "print(f\"The AGG closing price is ${agg_close_price:.2f}\")\n"
   ]
  },
  {
   "cell_type": "code",
   "execution_count": 98,
   "metadata": {},
   "outputs": [
    {
     "name": "stdout",
     "output_type": "stream",
     "text": [
      "The SPY closing price is $413.67\n"
     ]
    }
   ],
   "source": [
    "# Access the closing price for SPY from the Alpaca DataFrame\n",
    "# Converting the value to a floating point number\n",
    "spy_close_price = float(df_portfolio['SPY']['close'])\n",
    "\n",
    "# Print the SPY closing price\n",
    "print(f\"The SPY closing price is ${spy_close_price:.2f}\")\n"
   ]
  },
  {
   "cell_type": "markdown",
   "metadata": {},
   "source": [
    "#### Step 6: Calculate the value, in US dollars, of the current amount of shares in each of the stock and bond portions of the portfolio, and print the results."
   ]
  },
  {
   "cell_type": "code",
   "execution_count": 99,
   "metadata": {},
   "outputs": [
    {
     "name": "stdout",
     "output_type": "stream",
     "text": [
      "The current value of the bond portfolio is $20248.00\n"
     ]
    }
   ],
   "source": [
    "# Calculate the current value of the bond portion of the portfolio\n",
    "agg_value = agg_close_price*agg_shares\n",
    "\n",
    "# Print the current value of the bond portfolio\n",
    "print(f\"The current value of the bond portfolio is ${agg_value:.2f}\")\n"
   ]
  },
  {
   "cell_type": "code",
   "execution_count": 100,
   "metadata": {},
   "outputs": [
    {
     "name": "stdout",
     "output_type": "stream",
     "text": [
      "The current value of the stock portfolio is $45503.70\n"
     ]
    }
   ],
   "source": [
    "# Calculate the current value of the stock portion of the portfolio\n",
    "spy_value = spy_close_price*spy_shares\n",
    "\n",
    "# Print the current value of the stock portfolio\n",
    "print(f\"The current value of the stock portfolio is ${spy_value:.2f}\")\n"
   ]
  },
  {
   "cell_type": "code",
   "execution_count": 101,
   "metadata": {},
   "outputs": [
    {
     "name": "stdout",
     "output_type": "stream",
     "text": [
      "The current balance of the stock and bond portion of the portfolio is $65751.70\n"
     ]
    }
   ],
   "source": [
    "# Calculate the total value of the stock and bond portion of the portfolio\n",
    "total_stocks_bonds = agg_value + spy_value\n",
    "\n",
    "# Print the current balance of the stock and bond portion of the portfolio\n",
    "print(f\"The current balance of the stock and bond portion of the portfolio is ${total_stocks_bonds:.2f}\")\n"
   ]
  },
  {
   "cell_type": "code",
   "execution_count": 102,
   "metadata": {},
   "outputs": [
    {
     "name": "stdout",
     "output_type": "stream",
     "text": [
      "The current cryptocurrency wallet balance is $98818.58\n"
     ]
    }
   ],
   "source": [
    "# Calculate the total value of the member's entire savings portfolio\n",
    "# Add the value of the cryptocurrency walled to the value of the total stocks and bonds\n",
    "total_portfolio =total_crypto_wallet + total_stocks_bonds\n",
    "\n",
    "# Print current cryptocurrency wallet balance\n",
    "print(f\"The current cryptocurrency wallet balance is ${total_portfolio:.2f}\")\n"
   ]
  },
  {
   "cell_type": "markdown",
   "metadata": {},
   "source": [
    "### Evaluate the Emergency Fund\n",
    "\n",
    "In this section, you’ll use the valuations for the cryptocurrency wallet and for the stock and bond portions of the portfolio to determine if the credit union member has enough savings to build an emergency fund into their financial plan. To do this, complete the following steps:\n",
    "\n",
    "1. Create a Python list named `savings_data` that has two elements. The first element contains the total value of the cryptocurrency wallet. The second element contains the total value of the stock and bond portions of the portfolio.\n",
    "\n",
    "2. Use the `savings_data` list to create a Pandas DataFrame named `savings_df`, and then display this DataFrame. The function to create the DataFrame should take the following three parameters:\n",
    "\n",
    "    - `savings_data`: Use the list that you just created.\n",
    "\n",
    "    - `columns`: Set this parameter equal to a Python list with a single value called `amount`.\n",
    "\n",
    "    - `index`: Set this parameter equal to a Python list with the values of `crypto` and `stock/bond`.\n",
    "\n",
    "3. Use the `savings_df` DataFrame to plot a pie chart that visualizes the composition of the member’s portfolio. The y-axis of the pie chart uses `amount`. Be sure to add a title.\n",
    "\n",
    "4. Using Python, determine if the current portfolio has enough to create an emergency fund as part of the member’s financial plan. Ideally, an emergency fund should equal to three times the member’s monthly income. To do this, implement the following steps:\n",
    "\n",
    "    1. Create a variable named `emergency_fund_value`, and set it equal to three times the value of the member’s `monthly_income` of $12000. (You set this earlier in Part 1).\n",
    "\n",
    "    2. Create a series of three if statements to determine if the member’s total portfolio is large enough to fund the emergency portfolio:\n",
    "\n",
    "        1. If the total portfolio value is greater than the emergency fund value, display a message congratulating the member for having enough money in this fund.\n",
    "\n",
    "        2. Else if the total portfolio value is equal to the emergency fund value, display a message congratulating the member on reaching this important financial goal.\n",
    "\n",
    "        3. Else the total portfolio is less than the emergency fund value, so display a message showing how many dollars away the member is from reaching the goal. (Subtract the total portfolio value from the emergency fund value.)\n"
   ]
  },
  {
   "cell_type": "markdown",
   "metadata": {},
   "source": [
    "#### Step 1: Create a Python list named `savings_data` that has two elements. The first element contains the total value of the cryptocurrency wallet. The second element contains the total value of the stock and bond portions of the portfolio."
   ]
  },
  {
   "cell_type": "code",
   "execution_count": 103,
   "metadata": {},
   "outputs": [
    {
     "name": "stdout",
     "output_type": "stream",
     "text": [
      "The Python list savings_data is: [33066.882, 65751.70000000001]\n"
     ]
    }
   ],
   "source": [
    "# Consolidate financial assets data into a Python list\n",
    "savings_data=[total_crypto_wallet,total_stocks_bonds]\n",
    "\n",
    "# Review the Python list savings_data\n",
    "print(f\"The Python list savings_data is: {savings_data}\")\n",
    "    "
   ]
  },
  {
   "cell_type": "markdown",
   "metadata": {},
   "source": [
    "#### Step 2: Use the `savings_data` list to create a Pandas DataFrame named `savings_df`, and then display this DataFrame. The function to create the DataFrame should take the following three parameters:\n",
    "\n",
    "- `savings_data`: Use the list that you just created.\n",
    "\n",
    "- `columns`: Set this parameter equal to a Python list with a single value called `amount`.\n",
    "\n",
    "- `index`: Set this parameter equal to a Python list with the values of `crypto` and `stock/bond`.\n"
   ]
  },
  {
   "cell_type": "code",
   "execution_count": 104,
   "metadata": {},
   "outputs": [
    {
     "name": "stdout",
     "output_type": "stream",
     "text": [
      "Savings DataFrame\n",
      "---------------------\n",
      "               amount\n",
      "crypto      33066.882\n",
      "stock/bond  65751.700\n"
     ]
    }
   ],
   "source": [
    "# Create a Pandas DataFrame called savings_df \n",
    "savings_df=pd.DataFrame(savings_data,columns=['amount'],index=['crypto','stock/bond'])\n",
    "\n",
    "# Display the savings_df DataFrame\n",
    "print('Savings DataFrame')\n",
    "print('---------------------')\n",
    "print(savings_df)"
   ]
  },
  {
   "cell_type": "markdown",
   "metadata": {},
   "source": [
    "#### Step 3: Use the `savings_df` DataFrame to plot a pie chart that visualizes the composition of the member’s portfolio. The y-axis of the pie chart uses `amount`. Be sure to add a title."
   ]
  },
  {
   "cell_type": "code",
   "execution_count": 105,
   "metadata": {},
   "outputs": [
    {
     "data": {
      "text/plain": [
       "<AxesSubplot:title={'center':'Total value of the portfolio'}, ylabel='amount'>"
      ]
     },
     "execution_count": 105,
     "metadata": {},
     "output_type": "execute_result"
    },
    {
     "data": {
      "image/png": "[encoded data removed]",
      "text/plain": [
       "<Figure size 360x360 with 1 Axes>"
      ]
     },
     "metadata": {},
     "output_type": "display_data"
    }
   ],
   "source": [
    "# Plot the total value of the member's portfolio (crypto and stock/bond) in a pie chart\n",
    "savings_df.plot.pie(title='Total value of the portfolio',y='amount',figsize=(5,5))\n"
   ]
  },
  {
   "cell_type": "markdown",
   "metadata": {},
   "source": [
    "#### Step 4: Using Python, determine if the current portfolio has enough to create an emergency fund as part of the member’s financial plan. Ideally, an emergency fund should equal to three times the member’s monthly income. To do this, implement the following steps:\n",
    "\n",
    "Step 1. Create a variable named `emergency_fund_value`, and set it equal to three times the value of the member’s `monthly_income` of 12000. (You set this earlier in Part 1).\n",
    "\n",
    "Step 2. Create a series of three if statements to determine if the member’s total portfolio is large enough to fund the emergency portfolio:\n",
    "\n",
    "* If the total portfolio value is greater than the emergency fund value, display a message congratulating the member for having enough money in this fund.\n",
    "\n",
    "* Else if the total portfolio value is equal to the emergency fund value, display a message congratulating the member on reaching this important financial goal.\n",
    "\n",
    "* Else the total portfolio is less than the emergency fund value, so display a message showing how many dollars away the member is from reaching the goal. (Subtract the total portfolio value from the emergency fund value.)\n"
   ]
  },
  {
   "cell_type": "markdown",
   "metadata": {},
   "source": [
    "##### Step 4-1: Create a variable named `emergency_fund_value`, and set it equal to three times the value of the member’s `monthly_income` of 12000. (You set this earlier in Part 1)."
   ]
  },
  {
   "cell_type": "code",
   "execution_count": 106,
   "metadata": {},
   "outputs": [],
   "source": [
    "# Create a variable named emergency_fund_value\n",
    "emergency_fund_value=3*monthly_income\n"
   ]
  },
  {
   "cell_type": "markdown",
   "metadata": {},
   "source": [
    "##### Step 4-2: Create a series of three if statements to determine if the member’s total portfolio is large enough to fund the emergency portfolio:\n",
    "\n",
    "* If the total portfolio value is greater than the emergency fund value, display a message congratulating the member for having enough money in this fund.\n",
    "\n",
    "* Else if the total portfolio value is equal to the emergency fund value, display a message congratulating the member on reaching this important financial goal.\n",
    "\n",
    "* Else the total portfolio is less than the emergency fund value, so display a message showing how many dollars away the member is from reaching the goal. (Subtract the total portfolio value from the emergency fund value.)"
   ]
  },
  {
   "cell_type": "code",
   "execution_count": 107,
   "metadata": {},
   "outputs": [
    {
     "name": "stdout",
     "output_type": "stream",
     "text": [
      "Congratulations, you have enough money in this fund.\n"
     ]
    }
   ],
   "source": [
    "# Evaluate the possibility of creating an emergency fund with 3 conditions:\n",
    "\n",
    "if total_portfolio>emergency_fund_value:\n",
    "    print(f\"Congratulations, you have enough money in this fund.\")\n",
    "elif total_portfolio==emergency_fund_value:\n",
    "    print(f\"Congratulations on reaching this important financial goal.\")\n",
    "else:\n",
    "    difference=total_portfolio-emergency_fund_value\n",
    "    print(f\"You are {difference} away from reaching the goal\")\n",
    "\n",
    "\n"
   ]
  },
  {
   "cell_type": "markdown",
   "metadata": {},
   "source": [
    "## Part 2: Create a Financial Planner for Retirement"
   ]
  },
  {
   "cell_type": "markdown",
   "metadata": {},
   "source": [
    "### Create the Monte Carlo Simulation\n",
    "\n",
    "In this section, you’ll use the MCForecastTools library to create a Monte Carlo simulation for the member’s savings portfolio. To do this, complete the following steps:\n",
    "\n",
    "1. Make an API call via the Alpaca SDK to get 3 years of historical closing prices for a traditional 60/40 portfolio split: 60% stocks (SPY) and 40% bonds (AGG).\n",
    "\n",
    "2. Run a Monte Carlo simulation of 500 samples and 30 years for the 60/40 portfolio, and then plot the results.The following image shows the overlay line plot resulting from a simulation with these characteristics. However, because a random number generator is used to run each live Monte Carlo simulation, your image will differ slightly from this exact image:\n",
    "\n",
    "![A screenshot depicts the resulting plot.](Images/5-4-monte-carlo-line-plot.png)\n",
    "\n",
    "3. Plot the probability distribution of the Monte Carlo simulation. Plot the probability distribution of the Monte Carlo simulation. The following image shows the histogram plot resulting from a simulation with these characteristics. However, because a random number generator is used to run each live Monte Carlo simulation, your image will differ slightly from this exact image:\n",
    "\n",
    "![A screenshot depicts the histogram plot.](Images/5-4-monte-carlo-histogram.png)\n",
    "\n",
    "4. Generate the summary statistics for the Monte Carlo simulation.\n",
    "\n"
   ]
  },
  {
   "cell_type": "markdown",
   "metadata": {},
   "source": [
    "#### Step 1: Make an API call via the Alpaca SDK to get 3 years of historical closing prices for a traditional 60/40 portfolio split: 60% stocks (SPY) and 40% bonds (AGG)."
   ]
  },
  {
   "cell_type": "code",
   "execution_count": 108,
   "metadata": {},
   "outputs": [],
   "source": [
    "# Set start and end dates of 3 years back from your current date\n",
    "# Alternatively, you can use an end date of 2020-08-07 and work 3 years back from that date \n",
    "start_date=pd.Timestamp('2019-08-25',tz='America/New_York').isoformat()\n",
    "end_date=pd.Timestamp('2022-08-25',tz='America/New_York').isoformat()"
   ]
  },
  {
   "cell_type": "code",
   "execution_count": 109,
   "metadata": {},
   "outputs": [
    {
     "data": {
      "text/html": [
       "<div>\n",
       "<style scoped>\n",
       "    .dataframe tbody tr th:only-of-type {\n",
       "        vertical-align: middle;\n",
       "    }\n",
       "\n",
       "    .dataframe tbody tr th {\n",
       "        vertical-align: top;\n",
       "    }\n",
       "\n",
       "    .dataframe thead tr th {\n",
       "        text-align: left;\n",
       "    }\n",
       "\n",
       "    .dataframe thead tr:last-of-type th {\n",
       "        text-align: right;\n",
       "    }\n",
       "</style>\n",
       "<table border=\"1\" class=\"dataframe\">\n",
       "  <thead>\n",
       "    <tr>\n",
       "      <th></th>\n",
       "      <th colspan=\"7\" halign=\"left\">SPY</th>\n",
       "      <th colspan=\"7\" halign=\"left\">AGG</th>\n",
       "    </tr>\n",
       "    <tr>\n",
       "      <th></th>\n",
       "      <th>open</th>\n",
       "      <th>high</th>\n",
       "      <th>low</th>\n",
       "      <th>close</th>\n",
       "      <th>volume</th>\n",
       "      <th>trade_count</th>\n",
       "      <th>vwap</th>\n",
       "      <th>open</th>\n",
       "      <th>high</th>\n",
       "      <th>low</th>\n",
       "      <th>close</th>\n",
       "      <th>volume</th>\n",
       "      <th>trade_count</th>\n",
       "      <th>vwap</th>\n",
       "    </tr>\n",
       "    <tr>\n",
       "      <th>timestamp</th>\n",
       "      <th></th>\n",
       "      <th></th>\n",
       "      <th></th>\n",
       "      <th></th>\n",
       "      <th></th>\n",
       "      <th></th>\n",
       "      <th></th>\n",
       "      <th></th>\n",
       "      <th></th>\n",
       "      <th></th>\n",
       "      <th></th>\n",
       "      <th></th>\n",
       "      <th></th>\n",
       "      <th></th>\n",
       "    </tr>\n",
       "  </thead>\n",
       "  <tbody>\n",
       "    <tr>\n",
       "      <th>2019-08-26 04:00:00+00:00</th>\n",
       "      <td>287.24</td>\n",
       "      <td>288.0000</td>\n",
       "      <td>285.58</td>\n",
       "      <td>288.00</td>\n",
       "      <td>72674040</td>\n",
       "      <td>348875</td>\n",
       "      <td>286.979104</td>\n",
       "      <td>113.84</td>\n",
       "      <td>113.95</td>\n",
       "      <td>113.670</td>\n",
       "      <td>113.73</td>\n",
       "      <td>5128260</td>\n",
       "      <td>15135</td>\n",
       "      <td>113.784547</td>\n",
       "    </tr>\n",
       "    <tr>\n",
       "      <th>2019-08-27 04:00:00+00:00</th>\n",
       "      <td>289.55</td>\n",
       "      <td>289.9500</td>\n",
       "      <td>286.03</td>\n",
       "      <td>286.87</td>\n",
       "      <td>68307923</td>\n",
       "      <td>346860</td>\n",
       "      <td>287.694466</td>\n",
       "      <td>113.91</td>\n",
       "      <td>114.12</td>\n",
       "      <td>113.870</td>\n",
       "      <td>114.09</td>\n",
       "      <td>3473405</td>\n",
       "      <td>9933</td>\n",
       "      <td>114.062880</td>\n",
       "    </tr>\n",
       "    <tr>\n",
       "      <th>2019-08-28 04:00:00+00:00</th>\n",
       "      <td>286.10</td>\n",
       "      <td>289.0700</td>\n",
       "      <td>285.25</td>\n",
       "      <td>288.89</td>\n",
       "      <td>60200590</td>\n",
       "      <td>311534</td>\n",
       "      <td>287.877722</td>\n",
       "      <td>114.30</td>\n",
       "      <td>114.30</td>\n",
       "      <td>114.040</td>\n",
       "      <td>114.10</td>\n",
       "      <td>5102472</td>\n",
       "      <td>15819</td>\n",
       "      <td>114.130072</td>\n",
       "    </tr>\n",
       "    <tr>\n",
       "      <th>2019-08-29 04:00:00+00:00</th>\n",
       "      <td>291.77</td>\n",
       "      <td>293.1600</td>\n",
       "      <td>290.61</td>\n",
       "      <td>292.58</td>\n",
       "      <td>58018751</td>\n",
       "      <td>309986</td>\n",
       "      <td>292.211021</td>\n",
       "      <td>114.08</td>\n",
       "      <td>114.08</td>\n",
       "      <td>113.835</td>\n",
       "      <td>114.03</td>\n",
       "      <td>2670969</td>\n",
       "      <td>11548</td>\n",
       "      <td>113.955831</td>\n",
       "    </tr>\n",
       "    <tr>\n",
       "      <th>2019-08-30 04:00:00+00:00</th>\n",
       "      <td>294.21</td>\n",
       "      <td>294.2399</td>\n",
       "      <td>291.42</td>\n",
       "      <td>292.45</td>\n",
       "      <td>63024780</td>\n",
       "      <td>303476</td>\n",
       "      <td>292.713824</td>\n",
       "      <td>113.90</td>\n",
       "      <td>114.15</td>\n",
       "      <td>113.890</td>\n",
       "      <td>114.13</td>\n",
       "      <td>4661629</td>\n",
       "      <td>11279</td>\n",
       "      <td>114.025187</td>\n",
       "    </tr>\n",
       "  </tbody>\n",
       "</table>\n",
       "</div>"
      ],
      "text/plain": [
       "                              SPY                                      \\\n",
       "                             open      high     low   close    volume   \n",
       "timestamp                                                               \n",
       "2019-08-26 04:00:00+00:00  287.24  288.0000  285.58  288.00  72674040   \n",
       "2019-08-27 04:00:00+00:00  289.55  289.9500  286.03  286.87  68307923   \n",
       "2019-08-28 04:00:00+00:00  286.10  289.0700  285.25  288.89  60200590   \n",
       "2019-08-29 04:00:00+00:00  291.77  293.1600  290.61  292.58  58018751   \n",
       "2019-08-30 04:00:00+00:00  294.21  294.2399  291.42  292.45  63024780   \n",
       "\n",
       "                                                      AGG                   \\\n",
       "                          trade_count        vwap    open    high      low   \n",
       "timestamp                                                                    \n",
       "2019-08-26 04:00:00+00:00      348875  286.979104  113.84  113.95  113.670   \n",
       "2019-08-27 04:00:00+00:00      346860  287.694466  113.91  114.12  113.870   \n",
       "2019-08-28 04:00:00+00:00      311534  287.877722  114.30  114.30  114.040   \n",
       "2019-08-29 04:00:00+00:00      309986  292.211021  114.08  114.08  113.835   \n",
       "2019-08-30 04:00:00+00:00      303476  292.713824  113.90  114.15  113.890   \n",
       "\n",
       "                                                                    \n",
       "                            close   volume trade_count        vwap  \n",
       "timestamp                                                           \n",
       "2019-08-26 04:00:00+00:00  113.73  5128260       15135  113.784547  \n",
       "2019-08-27 04:00:00+00:00  114.09  3473405        9933  114.062880  \n",
       "2019-08-28 04:00:00+00:00  114.10  5102472       15819  114.130072  \n",
       "2019-08-29 04:00:00+00:00  114.03  2670969       11548  113.955831  \n",
       "2019-08-30 04:00:00+00:00  114.13  4661629       11279  114.025187  "
      ]
     },
     "metadata": {},
     "output_type": "display_data"
    },
    {
     "data": {
      "text/html": [
       "<div>\n",
       "<style scoped>\n",
       "    .dataframe tbody tr th:only-of-type {\n",
       "        vertical-align: middle;\n",
       "    }\n",
       "\n",
       "    .dataframe tbody tr th {\n",
       "        vertical-align: top;\n",
       "    }\n",
       "\n",
       "    .dataframe thead tr th {\n",
       "        text-align: left;\n",
       "    }\n",
       "\n",
       "    .dataframe thead tr:last-of-type th {\n",
       "        text-align: right;\n",
       "    }\n",
       "</style>\n",
       "<table border=\"1\" class=\"dataframe\">\n",
       "  <thead>\n",
       "    <tr>\n",
       "      <th></th>\n",
       "      <th colspan=\"7\" halign=\"left\">SPY</th>\n",
       "      <th colspan=\"7\" halign=\"left\">AGG</th>\n",
       "    </tr>\n",
       "    <tr>\n",
       "      <th></th>\n",
       "      <th>open</th>\n",
       "      <th>high</th>\n",
       "      <th>low</th>\n",
       "      <th>close</th>\n",
       "      <th>volume</th>\n",
       "      <th>trade_count</th>\n",
       "      <th>vwap</th>\n",
       "      <th>open</th>\n",
       "      <th>high</th>\n",
       "      <th>low</th>\n",
       "      <th>close</th>\n",
       "      <th>volume</th>\n",
       "      <th>trade_count</th>\n",
       "      <th>vwap</th>\n",
       "    </tr>\n",
       "    <tr>\n",
       "      <th>timestamp</th>\n",
       "      <th></th>\n",
       "      <th></th>\n",
       "      <th></th>\n",
       "      <th></th>\n",
       "      <th></th>\n",
       "      <th></th>\n",
       "      <th></th>\n",
       "      <th></th>\n",
       "      <th></th>\n",
       "      <th></th>\n",
       "      <th></th>\n",
       "      <th></th>\n",
       "      <th></th>\n",
       "      <th></th>\n",
       "    </tr>\n",
       "  </thead>\n",
       "  <tbody>\n",
       "    <tr>\n",
       "      <th>2022-08-19 04:00:00+00:00</th>\n",
       "      <td>424.87</td>\n",
       "      <td>425.2600</td>\n",
       "      <td>421.22</td>\n",
       "      <td>422.14</td>\n",
       "      <td>67861630</td>\n",
       "      <td>438953</td>\n",
       "      <td>423.097019</td>\n",
       "      <td>102.13</td>\n",
       "      <td>102.1300</td>\n",
       "      <td>101.8450</td>\n",
       "      <td>101.99</td>\n",
       "      <td>4567988</td>\n",
       "      <td>14353</td>\n",
       "      <td>101.981855</td>\n",
       "    </tr>\n",
       "    <tr>\n",
       "      <th>2022-08-22 04:00:00+00:00</th>\n",
       "      <td>417.04</td>\n",
       "      <td>417.2300</td>\n",
       "      <td>412.40</td>\n",
       "      <td>413.35</td>\n",
       "      <td>77604197</td>\n",
       "      <td>484052</td>\n",
       "      <td>415.048519</td>\n",
       "      <td>101.82</td>\n",
       "      <td>101.8900</td>\n",
       "      <td>101.5150</td>\n",
       "      <td>101.55</td>\n",
       "      <td>7132742</td>\n",
       "      <td>24710</td>\n",
       "      <td>101.702316</td>\n",
       "    </tr>\n",
       "    <tr>\n",
       "      <th>2022-08-23 04:00:00+00:00</th>\n",
       "      <td>412.96</td>\n",
       "      <td>415.4200</td>\n",
       "      <td>411.77</td>\n",
       "      <td>412.35</td>\n",
       "      <td>48952606</td>\n",
       "      <td>389397</td>\n",
       "      <td>413.095826</td>\n",
       "      <td>101.54</td>\n",
       "      <td>101.9671</td>\n",
       "      <td>101.4000</td>\n",
       "      <td>101.51</td>\n",
       "      <td>6531916</td>\n",
       "      <td>21473</td>\n",
       "      <td>101.686417</td>\n",
       "    </tr>\n",
       "    <tr>\n",
       "      <th>2022-08-24 04:00:00+00:00</th>\n",
       "      <td>412.10</td>\n",
       "      <td>415.1101</td>\n",
       "      <td>411.39</td>\n",
       "      <td>413.67</td>\n",
       "      <td>48983049</td>\n",
       "      <td>334281</td>\n",
       "      <td>413.383226</td>\n",
       "      <td>101.35</td>\n",
       "      <td>101.3950</td>\n",
       "      <td>101.1500</td>\n",
       "      <td>101.24</td>\n",
       "      <td>5397673</td>\n",
       "      <td>19881</td>\n",
       "      <td>101.259133</td>\n",
       "    </tr>\n",
       "    <tr>\n",
       "      <th>2022-08-25 04:00:00+00:00</th>\n",
       "      <td>415.27</td>\n",
       "      <td>419.5600</td>\n",
       "      <td>414.09</td>\n",
       "      <td>419.51</td>\n",
       "      <td>48816114</td>\n",
       "      <td>338000</td>\n",
       "      <td>416.816182</td>\n",
       "      <td>101.33</td>\n",
       "      <td>101.8700</td>\n",
       "      <td>101.2426</td>\n",
       "      <td>101.80</td>\n",
       "      <td>8184169</td>\n",
       "      <td>22707</td>\n",
       "      <td>101.529620</td>\n",
       "    </tr>\n",
       "  </tbody>\n",
       "</table>\n",
       "</div>"
      ],
      "text/plain": [
       "                              SPY                                      \\\n",
       "                             open      high     low   close    volume   \n",
       "timestamp                                                               \n",
       "2022-08-19 04:00:00+00:00  424.87  425.2600  421.22  422.14  67861630   \n",
       "2022-08-22 04:00:00+00:00  417.04  417.2300  412.40  413.35  77604197   \n",
       "2022-08-23 04:00:00+00:00  412.96  415.4200  411.77  412.35  48952606   \n",
       "2022-08-24 04:00:00+00:00  412.10  415.1101  411.39  413.67  48983049   \n",
       "2022-08-25 04:00:00+00:00  415.27  419.5600  414.09  419.51  48816114   \n",
       "\n",
       "                                                      AGG                      \\\n",
       "                          trade_count        vwap    open      high       low   \n",
       "timestamp                                                                       \n",
       "2022-08-19 04:00:00+00:00      438953  423.097019  102.13  102.1300  101.8450   \n",
       "2022-08-22 04:00:00+00:00      484052  415.048519  101.82  101.8900  101.5150   \n",
       "2022-08-23 04:00:00+00:00      389397  413.095826  101.54  101.9671  101.4000   \n",
       "2022-08-24 04:00:00+00:00      334281  413.383226  101.35  101.3950  101.1500   \n",
       "2022-08-25 04:00:00+00:00      338000  416.816182  101.33  101.8700  101.2426   \n",
       "\n",
       "                                                                    \n",
       "                            close   volume trade_count        vwap  \n",
       "timestamp                                                           \n",
       "2022-08-19 04:00:00+00:00  101.99  4567988       14353  101.981855  \n",
       "2022-08-22 04:00:00+00:00  101.55  7132742       24710  101.702316  \n",
       "2022-08-23 04:00:00+00:00  101.51  6531916       21473  101.686417  \n",
       "2022-08-24 04:00:00+00:00  101.24  5397673       19881  101.259133  \n",
       "2022-08-25 04:00:00+00:00  101.80  8184169       22707  101.529620  "
      ]
     },
     "metadata": {},
     "output_type": "display_data"
    }
   ],
   "source": [
    "# Use the Alpaca get_bars function to make the API call to get the 3 years worth of pricing data\n",
    "# The tickers and timeframe parameters should have been set in Part 1 of this activity \n",
    "# The start and end dates should be updated with the information set above\n",
    "# Remember to add the df property to the end of the call so the response is returned as a DataFrame\n",
    "prices_df=alpaca.get_bars(\n",
    "    tickers,\n",
    "    timeframe,\n",
    "    start=start_date,\n",
    "    end=end_date).df\n",
    "\n",
    "# Reorganize the DataFrame\n",
    "# Separate ticker data\n",
    "SPY=prices_df[prices_df['symbol']=='SPY'].drop('symbol',axis=1)\n",
    "AGG=prices_df[prices_df['symbol']=='AGG'].drop('symbol',axis=1)\n",
    "\n",
    "# Concatenate the ticker DataFrames\n",
    "df_portfolio=pd.concat([SPY,AGG],axis=1,keys=['SPY','AGG'])\n",
    "\n",
    "# Display both the first and last five rows of the DataFrame\n",
    "display(df_portfolio.head())\n",
    "display(df_portfolio.tail())\n"
   ]
  },
  {
   "cell_type": "markdown",
   "metadata": {},
   "source": [
    "#### Step 2: Run a Monte Carlo simulation of 500 samples and 30 years for the 60/40 portfolio, and then plot the results."
   ]
  },
  {
   "cell_type": "code",
   "execution_count": 110,
   "metadata": {},
   "outputs": [
    {
     "data": {
      "text/html": [
       "<div>\n",
       "<style scoped>\n",
       "    .dataframe tbody tr th:only-of-type {\n",
       "        vertical-align: middle;\n",
       "    }\n",
       "\n",
       "    .dataframe tbody tr th {\n",
       "        vertical-align: top;\n",
       "    }\n",
       "\n",
       "    .dataframe thead tr th {\n",
       "        text-align: left;\n",
       "    }\n",
       "\n",
       "    .dataframe thead tr:last-of-type th {\n",
       "        text-align: right;\n",
       "    }\n",
       "</style>\n",
       "<table border=\"1\" class=\"dataframe\">\n",
       "  <thead>\n",
       "    <tr>\n",
       "      <th></th>\n",
       "      <th colspan=\"8\" halign=\"left\">SPY</th>\n",
       "      <th colspan=\"8\" halign=\"left\">AGG</th>\n",
       "    </tr>\n",
       "    <tr>\n",
       "      <th></th>\n",
       "      <th>open</th>\n",
       "      <th>high</th>\n",
       "      <th>low</th>\n",
       "      <th>close</th>\n",
       "      <th>volume</th>\n",
       "      <th>trade_count</th>\n",
       "      <th>vwap</th>\n",
       "      <th>daily_return</th>\n",
       "      <th>open</th>\n",
       "      <th>high</th>\n",
       "      <th>low</th>\n",
       "      <th>close</th>\n",
       "      <th>volume</th>\n",
       "      <th>trade_count</th>\n",
       "      <th>vwap</th>\n",
       "      <th>daily_return</th>\n",
       "    </tr>\n",
       "    <tr>\n",
       "      <th>timestamp</th>\n",
       "      <th></th>\n",
       "      <th></th>\n",
       "      <th></th>\n",
       "      <th></th>\n",
       "      <th></th>\n",
       "      <th></th>\n",
       "      <th></th>\n",
       "      <th></th>\n",
       "      <th></th>\n",
       "      <th></th>\n",
       "      <th></th>\n",
       "      <th></th>\n",
       "      <th></th>\n",
       "      <th></th>\n",
       "      <th></th>\n",
       "      <th></th>\n",
       "    </tr>\n",
       "  </thead>\n",
       "  <tbody>\n",
       "    <tr>\n",
       "      <th>2019-08-26 04:00:00+00:00</th>\n",
       "      <td>287.24</td>\n",
       "      <td>288.0000</td>\n",
       "      <td>285.58</td>\n",
       "      <td>288.00</td>\n",
       "      <td>72674040</td>\n",
       "      <td>348875</td>\n",
       "      <td>286.979104</td>\n",
       "      <td>NaN</td>\n",
       "      <td>113.84</td>\n",
       "      <td>113.95</td>\n",
       "      <td>113.670</td>\n",
       "      <td>113.73</td>\n",
       "      <td>5128260</td>\n",
       "      <td>15135</td>\n",
       "      <td>113.784547</td>\n",
       "      <td>NaN</td>\n",
       "    </tr>\n",
       "    <tr>\n",
       "      <th>2019-08-27 04:00:00+00:00</th>\n",
       "      <td>289.55</td>\n",
       "      <td>289.9500</td>\n",
       "      <td>286.03</td>\n",
       "      <td>286.87</td>\n",
       "      <td>68307923</td>\n",
       "      <td>346860</td>\n",
       "      <td>287.694466</td>\n",
       "      <td>-0.003924</td>\n",
       "      <td>113.91</td>\n",
       "      <td>114.12</td>\n",
       "      <td>113.870</td>\n",
       "      <td>114.09</td>\n",
       "      <td>3473405</td>\n",
       "      <td>9933</td>\n",
       "      <td>114.062880</td>\n",
       "      <td>0.003165</td>\n",
       "    </tr>\n",
       "    <tr>\n",
       "      <th>2019-08-28 04:00:00+00:00</th>\n",
       "      <td>286.10</td>\n",
       "      <td>289.0700</td>\n",
       "      <td>285.25</td>\n",
       "      <td>288.89</td>\n",
       "      <td>60200590</td>\n",
       "      <td>311534</td>\n",
       "      <td>287.877722</td>\n",
       "      <td>0.007042</td>\n",
       "      <td>114.30</td>\n",
       "      <td>114.30</td>\n",
       "      <td>114.040</td>\n",
       "      <td>114.10</td>\n",
       "      <td>5102472</td>\n",
       "      <td>15819</td>\n",
       "      <td>114.130072</td>\n",
       "      <td>0.000088</td>\n",
       "    </tr>\n",
       "    <tr>\n",
       "      <th>2019-08-29 04:00:00+00:00</th>\n",
       "      <td>291.77</td>\n",
       "      <td>293.1600</td>\n",
       "      <td>290.61</td>\n",
       "      <td>292.58</td>\n",
       "      <td>58018751</td>\n",
       "      <td>309986</td>\n",
       "      <td>292.211021</td>\n",
       "      <td>0.012773</td>\n",
       "      <td>114.08</td>\n",
       "      <td>114.08</td>\n",
       "      <td>113.835</td>\n",
       "      <td>114.03</td>\n",
       "      <td>2670969</td>\n",
       "      <td>11548</td>\n",
       "      <td>113.955831</td>\n",
       "      <td>-0.000613</td>\n",
       "    </tr>\n",
       "    <tr>\n",
       "      <th>2019-08-30 04:00:00+00:00</th>\n",
       "      <td>294.21</td>\n",
       "      <td>294.2399</td>\n",
       "      <td>291.42</td>\n",
       "      <td>292.45</td>\n",
       "      <td>63024780</td>\n",
       "      <td>303476</td>\n",
       "      <td>292.713824</td>\n",
       "      <td>-0.000444</td>\n",
       "      <td>113.90</td>\n",
       "      <td>114.15</td>\n",
       "      <td>113.890</td>\n",
       "      <td>114.13</td>\n",
       "      <td>4661629</td>\n",
       "      <td>11279</td>\n",
       "      <td>114.025187</td>\n",
       "      <td>0.000877</td>\n",
       "    </tr>\n",
       "  </tbody>\n",
       "</table>\n",
       "</div>"
      ],
      "text/plain": [
       "                              SPY                                      \\\n",
       "                             open      high     low   close    volume   \n",
       "timestamp                                                               \n",
       "2019-08-26 04:00:00+00:00  287.24  288.0000  285.58  288.00  72674040   \n",
       "2019-08-27 04:00:00+00:00  289.55  289.9500  286.03  286.87  68307923   \n",
       "2019-08-28 04:00:00+00:00  286.10  289.0700  285.25  288.89  60200590   \n",
       "2019-08-29 04:00:00+00:00  291.77  293.1600  290.61  292.58  58018751   \n",
       "2019-08-30 04:00:00+00:00  294.21  294.2399  291.42  292.45  63024780   \n",
       "\n",
       "                                                                   AGG  \\\n",
       "                          trade_count        vwap daily_return    open   \n",
       "timestamp                                                                \n",
       "2019-08-26 04:00:00+00:00      348875  286.979104          NaN  113.84   \n",
       "2019-08-27 04:00:00+00:00      346860  287.694466    -0.003924  113.91   \n",
       "2019-08-28 04:00:00+00:00      311534  287.877722     0.007042  114.30   \n",
       "2019-08-29 04:00:00+00:00      309986  292.211021     0.012773  114.08   \n",
       "2019-08-30 04:00:00+00:00      303476  292.713824    -0.000444  113.90   \n",
       "\n",
       "                                                                         \\\n",
       "                             high      low   close   volume trade_count   \n",
       "timestamp                                                                 \n",
       "2019-08-26 04:00:00+00:00  113.95  113.670  113.73  5128260       15135   \n",
       "2019-08-27 04:00:00+00:00  114.12  113.870  114.09  3473405        9933   \n",
       "2019-08-28 04:00:00+00:00  114.30  114.040  114.10  5102472       15819   \n",
       "2019-08-29 04:00:00+00:00  114.08  113.835  114.03  2670969       11548   \n",
       "2019-08-30 04:00:00+00:00  114.15  113.890  114.13  4661629       11279   \n",
       "\n",
       "                                                    \n",
       "                                 vwap daily_return  \n",
       "timestamp                                           \n",
       "2019-08-26 04:00:00+00:00  113.784547          NaN  \n",
       "2019-08-27 04:00:00+00:00  114.062880     0.003165  \n",
       "2019-08-28 04:00:00+00:00  114.130072     0.000088  \n",
       "2019-08-29 04:00:00+00:00  113.955831    -0.000613  \n",
       "2019-08-30 04:00:00+00:00  114.025187     0.000877  "
      ]
     },
     "execution_count": 110,
     "metadata": {},
     "output_type": "execute_result"
    }
   ],
   "source": [
    "# Configure the Monte Carlo simulation to forecast 30 years cumulative returns\n",
    "# The weights should be split 40% to AGG and 60% to SPY.\n",
    "# Run 500 samples.\n",
    "MC_portfolio=MCSimulation(\n",
    "    df_portfolio,\n",
    "    weights=[0.6,0.4],\n",
    "    num_simulation=500,\n",
    "    num_trading_days=30*252)\n",
    "\n",
    "# Review the simulation input data\n",
    "MC_portfolio.portfolio_data.head()\n"
   ]
  },
  {
   "cell_type": "code",
   "execution_count": 111,
   "metadata": {},
   "outputs": [
    {
     "name": "stdout",
     "output_type": "stream",
     "text": [
      "Running Monte Carlo simulation number 0.\n",
      "Running Monte Carlo simulation number 10.\n",
      "Running Monte Carlo simulation number 20.\n",
      "Running Monte Carlo simulation number 30.\n",
      "Running Monte Carlo simulation number 40.\n",
      "Running Monte Carlo simulation number 50.\n",
      "Running Monte Carlo simulation number 60.\n",
      "Running Monte Carlo simulation number 70.\n",
      "Running Monte Carlo simulation number 80.\n",
      "Running Monte Carlo simulation number 90.\n",
      "Running Monte Carlo simulation number 100.\n",
      "Running Monte Carlo simulation number 110.\n",
      "Running Monte Carlo simulation number 120.\n",
      "Running Monte Carlo simulation number 130.\n",
      "Running Monte Carlo simulation number 140.\n",
      "Running Monte Carlo simulation number 150.\n",
      "Running Monte Carlo simulation number 160.\n",
      "Running Monte Carlo simulation number 170.\n",
      "Running Monte Carlo simulation number 180.\n",
      "Running Monte Carlo simulation number 190.\n",
      "Running Monte Carlo simulation number 200.\n",
      "Running Monte Carlo simulation number 210.\n",
      "Running Monte Carlo simulation number 220.\n",
      "Running Monte Carlo simulation number 230.\n",
      "Running Monte Carlo simulation number 240.\n",
      "Running Monte Carlo simulation number 250.\n",
      "Running Monte Carlo simulation number 260.\n",
      "Running Monte Carlo simulation number 270.\n",
      "Running Monte Carlo simulation number 280.\n",
      "Running Monte Carlo simulation number 290.\n",
      "Running Monte Carlo simulation number 300.\n",
      "Running Monte Carlo simulation number 310.\n",
      "Running Monte Carlo simulation number 320.\n",
      "Running Monte Carlo simulation number 330.\n",
      "Running Monte Carlo simulation number 340.\n",
      "Running Monte Carlo simulation number 350.\n",
      "Running Monte Carlo simulation number 360.\n",
      "Running Monte Carlo simulation number 370.\n",
      "Running Monte Carlo simulation number 380.\n",
      "Running Monte Carlo simulation number 390.\n",
      "Running Monte Carlo simulation number 400.\n",
      "Running Monte Carlo simulation number 410.\n",
      "Running Monte Carlo simulation number 420.\n",
      "Running Monte Carlo simulation number 430.\n",
      "Running Monte Carlo simulation number 440.\n",
      "Running Monte Carlo simulation number 450.\n",
      "Running Monte Carlo simulation number 460.\n",
      "Running Monte Carlo simulation number 470.\n",
      "Running Monte Carlo simulation number 480.\n",
      "Running Monte Carlo simulation number 490.\n"
     ]
    },
    {
     "data": {
      "text/html": [
       "<div>\n",
       "<style scoped>\n",
       "    .dataframe tbody tr th:only-of-type {\n",
       "        vertical-align: middle;\n",
       "    }\n",
       "\n",
       "    .dataframe tbody tr th {\n",
       "        vertical-align: top;\n",
       "    }\n",
       "\n",
       "    .dataframe thead th {\n",
       "        text-align: right;\n",
       "    }\n",
       "</style>\n",
       "<table border=\"1\" class=\"dataframe\">\n",
       "  <thead>\n",
       "    <tr style=\"text-align: right;\">\n",
       "      <th></th>\n",
       "      <th>0</th>\n",
       "      <th>1</th>\n",
       "      <th>2</th>\n",
       "      <th>3</th>\n",
       "      <th>4</th>\n",
       "      <th>5</th>\n",
       "      <th>6</th>\n",
       "      <th>7</th>\n",
       "      <th>8</th>\n",
       "      <th>9</th>\n",
       "      <th>...</th>\n",
       "      <th>490</th>\n",
       "      <th>491</th>\n",
       "      <th>492</th>\n",
       "      <th>493</th>\n",
       "      <th>494</th>\n",
       "      <th>495</th>\n",
       "      <th>496</th>\n",
       "      <th>497</th>\n",
       "      <th>498</th>\n",
       "      <th>499</th>\n",
       "    </tr>\n",
       "  </thead>\n",
       "  <tbody>\n",
       "    <tr>\n",
       "      <th>0</th>\n",
       "      <td>1.000000</td>\n",
       "      <td>1.000000</td>\n",
       "      <td>1.000000</td>\n",
       "      <td>1.000000</td>\n",
       "      <td>1.000000</td>\n",
       "      <td>1.000000</td>\n",
       "      <td>1.000000</td>\n",
       "      <td>1.000000</td>\n",
       "      <td>1.000000</td>\n",
       "      <td>1.000000</td>\n",
       "      <td>...</td>\n",
       "      <td>1.000000</td>\n",
       "      <td>1.000000</td>\n",
       "      <td>1.000000</td>\n",
       "      <td>1.000000</td>\n",
       "      <td>1.000000</td>\n",
       "      <td>1.000000</td>\n",
       "      <td>1.000000</td>\n",
       "      <td>1.000000</td>\n",
       "      <td>1.000000</td>\n",
       "      <td>1.000000</td>\n",
       "    </tr>\n",
       "    <tr>\n",
       "      <th>1</th>\n",
       "      <td>0.993430</td>\n",
       "      <td>0.993971</td>\n",
       "      <td>1.003995</td>\n",
       "      <td>0.993525</td>\n",
       "      <td>0.998190</td>\n",
       "      <td>1.012019</td>\n",
       "      <td>1.012250</td>\n",
       "      <td>0.993659</td>\n",
       "      <td>1.006855</td>\n",
       "      <td>0.999801</td>\n",
       "      <td>...</td>\n",
       "      <td>0.995471</td>\n",
       "      <td>1.004365</td>\n",
       "      <td>0.999268</td>\n",
       "      <td>0.993395</td>\n",
       "      <td>1.005222</td>\n",
       "      <td>1.002800</td>\n",
       "      <td>1.014159</td>\n",
       "      <td>0.993805</td>\n",
       "      <td>0.979233</td>\n",
       "      <td>0.997195</td>\n",
       "    </tr>\n",
       "    <tr>\n",
       "      <th>2</th>\n",
       "      <td>0.987301</td>\n",
       "      <td>0.986896</td>\n",
       "      <td>1.001932</td>\n",
       "      <td>0.983565</td>\n",
       "      <td>1.003362</td>\n",
       "      <td>1.022270</td>\n",
       "      <td>1.024464</td>\n",
       "      <td>0.981900</td>\n",
       "      <td>0.998299</td>\n",
       "      <td>1.004641</td>\n",
       "      <td>...</td>\n",
       "      <td>1.006107</td>\n",
       "      <td>0.990730</td>\n",
       "      <td>0.999689</td>\n",
       "      <td>0.991974</td>\n",
       "      <td>1.010945</td>\n",
       "      <td>1.003116</td>\n",
       "      <td>1.010785</td>\n",
       "      <td>0.985863</td>\n",
       "      <td>0.990480</td>\n",
       "      <td>0.994585</td>\n",
       "    </tr>\n",
       "    <tr>\n",
       "      <th>3</th>\n",
       "      <td>0.992332</td>\n",
       "      <td>1.001445</td>\n",
       "      <td>1.005197</td>\n",
       "      <td>0.997638</td>\n",
       "      <td>1.023100</td>\n",
       "      <td>1.020920</td>\n",
       "      <td>1.037288</td>\n",
       "      <td>0.972927</td>\n",
       "      <td>1.000869</td>\n",
       "      <td>0.997587</td>\n",
       "      <td>...</td>\n",
       "      <td>1.001631</td>\n",
       "      <td>0.995594</td>\n",
       "      <td>1.008633</td>\n",
       "      <td>0.996878</td>\n",
       "      <td>1.010282</td>\n",
       "      <td>0.999040</td>\n",
       "      <td>1.003782</td>\n",
       "      <td>0.983488</td>\n",
       "      <td>0.991411</td>\n",
       "      <td>0.989576</td>\n",
       "    </tr>\n",
       "    <tr>\n",
       "      <th>4</th>\n",
       "      <td>0.988470</td>\n",
       "      <td>1.012798</td>\n",
       "      <td>1.000635</td>\n",
       "      <td>1.000968</td>\n",
       "      <td>1.011559</td>\n",
       "      <td>1.015042</td>\n",
       "      <td>1.024622</td>\n",
       "      <td>0.996723</td>\n",
       "      <td>0.994770</td>\n",
       "      <td>1.009268</td>\n",
       "      <td>...</td>\n",
       "      <td>1.013739</td>\n",
       "      <td>0.992946</td>\n",
       "      <td>1.009698</td>\n",
       "      <td>0.994513</td>\n",
       "      <td>1.007608</td>\n",
       "      <td>1.002795</td>\n",
       "      <td>1.011950</td>\n",
       "      <td>0.991154</td>\n",
       "      <td>0.982195</td>\n",
       "      <td>0.980423</td>\n",
       "    </tr>\n",
       "    <tr>\n",
       "      <th>...</th>\n",
       "      <td>...</td>\n",
       "      <td>...</td>\n",
       "      <td>...</td>\n",
       "      <td>...</td>\n",
       "      <td>...</td>\n",
       "      <td>...</td>\n",
       "      <td>...</td>\n",
       "      <td>...</td>\n",
       "      <td>...</td>\n",
       "      <td>...</td>\n",
       "      <td>...</td>\n",
       "      <td>...</td>\n",
       "      <td>...</td>\n",
       "      <td>...</td>\n",
       "      <td>...</td>\n",
       "      <td>...</td>\n",
       "      <td>...</td>\n",
       "      <td>...</td>\n",
       "      <td>...</td>\n",
       "      <td>...</td>\n",
       "      <td>...</td>\n",
       "    </tr>\n",
       "    <tr>\n",
       "      <th>7556</th>\n",
       "      <td>17.381134</td>\n",
       "      <td>2.142600</td>\n",
       "      <td>39.065764</td>\n",
       "      <td>23.530257</td>\n",
       "      <td>3.534651</td>\n",
       "      <td>3.381814</td>\n",
       "      <td>7.954801</td>\n",
       "      <td>6.494130</td>\n",
       "      <td>15.526496</td>\n",
       "      <td>2.400973</td>\n",
       "      <td>...</td>\n",
       "      <td>8.255648</td>\n",
       "      <td>11.096605</td>\n",
       "      <td>6.684902</td>\n",
       "      <td>33.934389</td>\n",
       "      <td>3.594490</td>\n",
       "      <td>5.207359</td>\n",
       "      <td>3.120907</td>\n",
       "      <td>7.473463</td>\n",
       "      <td>38.644293</td>\n",
       "      <td>33.463303</td>\n",
       "    </tr>\n",
       "    <tr>\n",
       "      <th>7557</th>\n",
       "      <td>17.655377</td>\n",
       "      <td>2.131907</td>\n",
       "      <td>39.593487</td>\n",
       "      <td>23.759354</td>\n",
       "      <td>3.543505</td>\n",
       "      <td>3.417213</td>\n",
       "      <td>7.918044</td>\n",
       "      <td>6.592768</td>\n",
       "      <td>15.551637</td>\n",
       "      <td>2.395813</td>\n",
       "      <td>...</td>\n",
       "      <td>8.107331</td>\n",
       "      <td>11.185157</td>\n",
       "      <td>6.771306</td>\n",
       "      <td>34.068385</td>\n",
       "      <td>3.600218</td>\n",
       "      <td>5.224848</td>\n",
       "      <td>3.115571</td>\n",
       "      <td>7.434601</td>\n",
       "      <td>38.535093</td>\n",
       "      <td>33.366125</td>\n",
       "    </tr>\n",
       "    <tr>\n",
       "      <th>7558</th>\n",
       "      <td>17.691766</td>\n",
       "      <td>2.107282</td>\n",
       "      <td>39.396968</td>\n",
       "      <td>23.711739</td>\n",
       "      <td>3.507319</td>\n",
       "      <td>3.394859</td>\n",
       "      <td>7.921508</td>\n",
       "      <td>6.457740</td>\n",
       "      <td>15.524253</td>\n",
       "      <td>2.407684</td>\n",
       "      <td>...</td>\n",
       "      <td>8.223310</td>\n",
       "      <td>11.233130</td>\n",
       "      <td>6.772831</td>\n",
       "      <td>33.968741</td>\n",
       "      <td>3.624873</td>\n",
       "      <td>5.273964</td>\n",
       "      <td>3.117354</td>\n",
       "      <td>7.447815</td>\n",
       "      <td>38.964150</td>\n",
       "      <td>33.747810</td>\n",
       "    </tr>\n",
       "    <tr>\n",
       "      <th>7559</th>\n",
       "      <td>17.549259</td>\n",
       "      <td>2.099193</td>\n",
       "      <td>39.081085</td>\n",
       "      <td>23.835788</td>\n",
       "      <td>3.537325</td>\n",
       "      <td>3.357282</td>\n",
       "      <td>7.940886</td>\n",
       "      <td>6.457628</td>\n",
       "      <td>15.507774</td>\n",
       "      <td>2.426831</td>\n",
       "      <td>...</td>\n",
       "      <td>8.182750</td>\n",
       "      <td>11.168598</td>\n",
       "      <td>6.654925</td>\n",
       "      <td>33.853007</td>\n",
       "      <td>3.691073</td>\n",
       "      <td>5.297758</td>\n",
       "      <td>3.096034</td>\n",
       "      <td>7.396034</td>\n",
       "      <td>38.710788</td>\n",
       "      <td>33.717955</td>\n",
       "    </tr>\n",
       "    <tr>\n",
       "      <th>7560</th>\n",
       "      <td>17.414758</td>\n",
       "      <td>2.100634</td>\n",
       "      <td>39.532427</td>\n",
       "      <td>23.574111</td>\n",
       "      <td>3.556096</td>\n",
       "      <td>3.383679</td>\n",
       "      <td>8.020960</td>\n",
       "      <td>6.404302</td>\n",
       "      <td>15.589957</td>\n",
       "      <td>2.461957</td>\n",
       "      <td>...</td>\n",
       "      <td>8.085876</td>\n",
       "      <td>11.209438</td>\n",
       "      <td>6.615480</td>\n",
       "      <td>34.219873</td>\n",
       "      <td>3.649287</td>\n",
       "      <td>5.319142</td>\n",
       "      <td>3.123616</td>\n",
       "      <td>7.311008</td>\n",
       "      <td>38.607908</td>\n",
       "      <td>34.167051</td>\n",
       "    </tr>\n",
       "  </tbody>\n",
       "</table>\n",
       "<p>7561 rows × 500 columns</p>\n",
       "</div>"
      ],
      "text/plain": [
       "            0         1          2          3         4         5         6    \\\n",
       "0      1.000000  1.000000   1.000000   1.000000  1.000000  1.000000  1.000000   \n",
       "1      0.993430  0.993971   1.003995   0.993525  0.998190  1.012019  1.012250   \n",
       "2      0.987301  0.986896   1.001932   0.983565  1.003362  1.022270  1.024464   \n",
       "3      0.992332  1.001445   1.005197   0.997638  1.023100  1.020920  1.037288   \n",
       "4      0.988470  1.012798   1.000635   1.000968  1.011559  1.015042  1.024622   \n",
       "...         ...       ...        ...        ...       ...       ...       ...   \n",
       "7556  17.381134  2.142600  39.065764  23.530257  3.534651  3.381814  7.954801   \n",
       "7557  17.655377  2.131907  39.593487  23.759354  3.543505  3.417213  7.918044   \n",
       "7558  17.691766  2.107282  39.396968  23.711739  3.507319  3.394859  7.921508   \n",
       "7559  17.549259  2.099193  39.081085  23.835788  3.537325  3.357282  7.940886   \n",
       "7560  17.414758  2.100634  39.532427  23.574111  3.556096  3.383679  8.020960   \n",
       "\n",
       "           7          8         9    ...       490        491       492  \\\n",
       "0     1.000000   1.000000  1.000000  ...  1.000000   1.000000  1.000000   \n",
       "1     0.993659   1.006855  0.999801  ...  0.995471   1.004365  0.999268   \n",
       "2     0.981900   0.998299  1.004641  ...  1.006107   0.990730  0.999689   \n",
       "3     0.972927   1.000869  0.997587  ...  1.001631   0.995594  1.008633   \n",
       "4     0.996723   0.994770  1.009268  ...  1.013739   0.992946  1.009698   \n",
       "...        ...        ...       ...  ...       ...        ...       ...   \n",
       "7556  6.494130  15.526496  2.400973  ...  8.255648  11.096605  6.684902   \n",
       "7557  6.592768  15.551637  2.395813  ...  8.107331  11.185157  6.771306   \n",
       "7558  6.457740  15.524253  2.407684  ...  8.223310  11.233130  6.772831   \n",
       "7559  6.457628  15.507774  2.426831  ...  8.182750  11.168598  6.654925   \n",
       "7560  6.404302  15.589957  2.461957  ...  8.085876  11.209438  6.615480   \n",
       "\n",
       "            493       494       495       496       497        498        499  \n",
       "0      1.000000  1.000000  1.000000  1.000000  1.000000   1.000000   1.000000  \n",
       "1      0.993395  1.005222  1.002800  1.014159  0.993805   0.979233   0.997195  \n",
       "2      0.991974  1.010945  1.003116  1.010785  0.985863   0.990480   0.994585  \n",
       "3      0.996878  1.010282  0.999040  1.003782  0.983488   0.991411   0.989576  \n",
       "4      0.994513  1.007608  1.002795  1.011950  0.991154   0.982195   0.980423  \n",
       "...         ...       ...       ...       ...       ...        ...        ...  \n",
       "7556  33.934389  3.594490  5.207359  3.120907  7.473463  38.644293  33.463303  \n",
       "7557  34.068385  3.600218  5.224848  3.115571  7.434601  38.535093  33.366125  \n",
       "7558  33.968741  3.624873  5.273964  3.117354  7.447815  38.964150  33.747810  \n",
       "7559  33.853007  3.691073  5.297758  3.096034  7.396034  38.710788  33.717955  \n",
       "7560  34.219873  3.649287  5.319142  3.123616  7.311008  38.607908  34.167051  \n",
       "\n",
       "[7561 rows x 500 columns]"
      ]
     },
     "execution_count": 111,
     "metadata": {},
     "output_type": "execute_result"
    }
   ],
   "source": [
    "# Run the Monte Carlo simulation to forecast 30 years cumulative returns\n",
    "MC_portfolio.calc_cumulative_return()\n"
   ]
  },
  {
   "cell_type": "code",
   "execution_count": 112,
   "metadata": {},
   "outputs": [
    {
     "data": {
      "text/plain": [
       "<AxesSubplot:title={'center':'500 Simulations of Cumulative Portfolio Return Trajectories Over the Next 7560 Trading Days.'}>"
      ]
     },
     "execution_count": 112,
     "metadata": {},
     "output_type": "execute_result"
    },
    {
     "data": {
      "image/png": "[encoded data removed]",
      "text/plain": [
       "<Figure size 432x288 with 1 Axes>"
      ]
     },
     "metadata": {
      "needs_background": "light"
     },
     "output_type": "display_data"
    }
   ],
   "source": [
    "# Visualize the 30-year Monte Carlo simulation by creating an\n",
    "# overlay line plot\n",
    "MC_portfolio.plot_simulation()\n"
   ]
  },
  {
   "cell_type": "markdown",
   "metadata": {},
   "source": [
    "#### Step 3: Plot the probability distribution of the Monte Carlo simulation."
   ]
  },
  {
   "cell_type": "code",
   "execution_count": 113,
   "metadata": {},
   "outputs": [
    {
     "data": {
      "text/plain": [
       "<AxesSubplot:title={'center':'Distribution of Final Cumuluative Returns Across All 500 Simulations'}, ylabel='Frequency'>"
      ]
     },
     "execution_count": 113,
     "metadata": {},
     "output_type": "execute_result"
    },
    {
     "data": {
      "image/png": "[encoded data removed]",
      "text/plain": [
       "<Figure size 432x288 with 1 Axes>"
      ]
     },
     "metadata": {
      "needs_background": "light"
     },
     "output_type": "display_data"
    }
   ],
   "source": [
    "# Visualize the probability distribution of the 30-year Monte Carlo simulation \n",
    "# by plotting a histogram\n",
    "MC_portfolio.plot_distribution()\n"
   ]
  },
  {
   "cell_type": "markdown",
   "metadata": {},
   "source": [
    "#### Step 4: Generate the summary statistics for the Monte Carlo simulation."
   ]
  },
  {
   "cell_type": "code",
   "execution_count": 114,
   "metadata": {},
   "outputs": [
    {
     "name": "stdout",
     "output_type": "stream",
     "text": [
      "count           500.000000\n",
      "mean             10.603472\n",
      "std               9.932703\n",
      "min               0.933803\n",
      "25%               4.366952\n",
      "50%               7.876709\n",
      "75%              13.318817\n",
      "max              86.738231\n",
      "95% CI Lower      1.618637\n",
      "95% CI Upper     37.185253\n",
      "Name: 7560, dtype: float64\n"
     ]
    }
   ],
   "source": [
    "# Generate summary statistics from the 30-year Monte Carlo simulation results\n",
    "# Save the results as a variable\n",
    "MC_summary_statistics=MC_portfolio.summarize_cumulative_return()\n",
    "\n",
    "\n",
    "# Review the 30-year Monte Carlo summary statistics\n",
    "print(MC_summary_statistics)"
   ]
  },
  {
   "cell_type": "markdown",
   "metadata": {},
   "source": [
    "### Analyze the Retirement Portfolio Forecasts\n",
    "\n",
    "Using the current value of only the stock and bond portion of the member's portfolio and the summary statistics that you generated from the Monte Carlo simulation, answer the following question in your Jupyter notebook:\n",
    "\n",
    "-  What are the lower and upper bounds for the expected value of the portfolio with a 95% confidence interval?\n"
   ]
  },
  {
   "cell_type": "code",
   "execution_count": 115,
   "metadata": {},
   "outputs": [
    {
     "name": "stdout",
     "output_type": "stream",
     "text": [
      "The current balance of the stock and bond portion of the members portfolio is $65751.70\n"
     ]
    }
   ],
   "source": [
    "# Print the current balance of the stock and bond portion of the members portfolio\n",
    "print(f\"The current balance of the stock and bond portion of the members portfolio is ${total_stocks_bonds:.2f}\")\n"
   ]
  },
  {
   "cell_type": "code",
   "execution_count": 116,
   "metadata": {},
   "outputs": [
    {
     "name": "stdout",
     "output_type": "stream",
     "text": [
      "There is a 95% chance that an initial investment of $65751.70 in the portfolio over the next 30 years will end in the range of $ 106428.16 and $ 2444993.62.\n"
     ]
    }
   ],
   "source": [
    "# Use the lower and upper `95%` confidence intervals to calculate the range of the possible outcomes for the current stock/bond portfolio\n",
    "ci_lower_thirty_cumulative_return = MC_summary_statistics[8] * total_stocks_bonds\n",
    "ci_upper_thirty_cumulative_return = MC_summary_statistics[9] * total_stocks_bonds\n",
    "\n",
    "# Print the result of your calculations\n",
    "print(f\"There is a 95% chance that an initial investment of ${total_stocks_bonds:.2f} in the portfolio\"\n",
    "    f\" over the next 30 years will end in the range of\"\n",
    "    f\" ${ci_lower_thirty_cumulative_return: .2f} and ${ci_upper_thirty_cumulative_return: .2f}.\")\n"
   ]
  },
  {
   "cell_type": "markdown",
   "metadata": {},
   "source": [
    "### Forecast Cumulative Returns in 10 Years\n",
    "\n",
    "The CTO of the credit union is impressed with your work on these planning tools but wonders if 30 years is a long time to wait until retirement. So, your next task is to adjust the retirement portfolio and run a new Monte Carlo simulation to find out if the changes will allow members to retire earlier.\n",
    "\n",
    "For this new Monte Carlo simulation, do the following: \n",
    "\n",
    "- Forecast the cumulative returns for 10 years from now. Because of the shortened investment horizon (30 years to 10 years), the portfolio needs to invest more heavily in the riskier asset&mdash;that is, stock&mdash;to help accumulate wealth for retirement. \n",
    "\n",
    "- Adjust the weights of the retirement portfolio so that the composition for the Monte Carlo simulation consists of 20% bonds and 80% stocks. \n",
    "\n",
    "- Run the simulation over 500 samples, and use the same data that the API call to Alpaca generated.\n",
    "\n",
    "- Based on the new Monte Carlo simulation, answer the following questions in your Jupyter notebook:\n",
    "\n",
    "    - Using the current value of only the stock and bond portion of the member's portfolio and the summary statistics that you generated from the new Monte Carlo simulation, what are the lower and upper bounds for the expected value of the portfolio (with the new weights) with a 95% confidence interval?\n",
    "\n",
    "    - Will weighting the portfolio more heavily toward stocks allow the credit union members to retire after only 10 years?\n"
   ]
  },
  {
   "cell_type": "code",
   "execution_count": 117,
   "metadata": {},
   "outputs": [
    {
     "data": {
      "text/html": [
       "<div>\n",
       "<style scoped>\n",
       "    .dataframe tbody tr th:only-of-type {\n",
       "        vertical-align: middle;\n",
       "    }\n",
       "\n",
       "    .dataframe tbody tr th {\n",
       "        vertical-align: top;\n",
       "    }\n",
       "\n",
       "    .dataframe thead tr th {\n",
       "        text-align: left;\n",
       "    }\n",
       "\n",
       "    .dataframe thead tr:last-of-type th {\n",
       "        text-align: right;\n",
       "    }\n",
       "</style>\n",
       "<table border=\"1\" class=\"dataframe\">\n",
       "  <thead>\n",
       "    <tr>\n",
       "      <th></th>\n",
       "      <th colspan=\"8\" halign=\"left\">SPY</th>\n",
       "      <th colspan=\"8\" halign=\"left\">AGG</th>\n",
       "    </tr>\n",
       "    <tr>\n",
       "      <th></th>\n",
       "      <th>open</th>\n",
       "      <th>high</th>\n",
       "      <th>low</th>\n",
       "      <th>close</th>\n",
       "      <th>volume</th>\n",
       "      <th>trade_count</th>\n",
       "      <th>vwap</th>\n",
       "      <th>daily_return</th>\n",
       "      <th>open</th>\n",
       "      <th>high</th>\n",
       "      <th>low</th>\n",
       "      <th>close</th>\n",
       "      <th>volume</th>\n",
       "      <th>trade_count</th>\n",
       "      <th>vwap</th>\n",
       "      <th>daily_return</th>\n",
       "    </tr>\n",
       "    <tr>\n",
       "      <th>timestamp</th>\n",
       "      <th></th>\n",
       "      <th></th>\n",
       "      <th></th>\n",
       "      <th></th>\n",
       "      <th></th>\n",
       "      <th></th>\n",
       "      <th></th>\n",
       "      <th></th>\n",
       "      <th></th>\n",
       "      <th></th>\n",
       "      <th></th>\n",
       "      <th></th>\n",
       "      <th></th>\n",
       "      <th></th>\n",
       "      <th></th>\n",
       "      <th></th>\n",
       "    </tr>\n",
       "  </thead>\n",
       "  <tbody>\n",
       "    <tr>\n",
       "      <th>2019-08-26 04:00:00+00:00</th>\n",
       "      <td>287.24</td>\n",
       "      <td>288.0000</td>\n",
       "      <td>285.58</td>\n",
       "      <td>288.00</td>\n",
       "      <td>72674040</td>\n",
       "      <td>348875</td>\n",
       "      <td>286.979104</td>\n",
       "      <td>NaN</td>\n",
       "      <td>113.84</td>\n",
       "      <td>113.95</td>\n",
       "      <td>113.670</td>\n",
       "      <td>113.73</td>\n",
       "      <td>5128260</td>\n",
       "      <td>15135</td>\n",
       "      <td>113.784547</td>\n",
       "      <td>NaN</td>\n",
       "    </tr>\n",
       "    <tr>\n",
       "      <th>2019-08-27 04:00:00+00:00</th>\n",
       "      <td>289.55</td>\n",
       "      <td>289.9500</td>\n",
       "      <td>286.03</td>\n",
       "      <td>286.87</td>\n",
       "      <td>68307923</td>\n",
       "      <td>346860</td>\n",
       "      <td>287.694466</td>\n",
       "      <td>-0.003924</td>\n",
       "      <td>113.91</td>\n",
       "      <td>114.12</td>\n",
       "      <td>113.870</td>\n",
       "      <td>114.09</td>\n",
       "      <td>3473405</td>\n",
       "      <td>9933</td>\n",
       "      <td>114.062880</td>\n",
       "      <td>0.003165</td>\n",
       "    </tr>\n",
       "    <tr>\n",
       "      <th>2019-08-28 04:00:00+00:00</th>\n",
       "      <td>286.10</td>\n",
       "      <td>289.0700</td>\n",
       "      <td>285.25</td>\n",
       "      <td>288.89</td>\n",
       "      <td>60200590</td>\n",
       "      <td>311534</td>\n",
       "      <td>287.877722</td>\n",
       "      <td>0.007042</td>\n",
       "      <td>114.30</td>\n",
       "      <td>114.30</td>\n",
       "      <td>114.040</td>\n",
       "      <td>114.10</td>\n",
       "      <td>5102472</td>\n",
       "      <td>15819</td>\n",
       "      <td>114.130072</td>\n",
       "      <td>0.000088</td>\n",
       "    </tr>\n",
       "    <tr>\n",
       "      <th>2019-08-29 04:00:00+00:00</th>\n",
       "      <td>291.77</td>\n",
       "      <td>293.1600</td>\n",
       "      <td>290.61</td>\n",
       "      <td>292.58</td>\n",
       "      <td>58018751</td>\n",
       "      <td>309986</td>\n",
       "      <td>292.211021</td>\n",
       "      <td>0.012773</td>\n",
       "      <td>114.08</td>\n",
       "      <td>114.08</td>\n",
       "      <td>113.835</td>\n",
       "      <td>114.03</td>\n",
       "      <td>2670969</td>\n",
       "      <td>11548</td>\n",
       "      <td>113.955831</td>\n",
       "      <td>-0.000613</td>\n",
       "    </tr>\n",
       "    <tr>\n",
       "      <th>2019-08-30 04:00:00+00:00</th>\n",
       "      <td>294.21</td>\n",
       "      <td>294.2399</td>\n",
       "      <td>291.42</td>\n",
       "      <td>292.45</td>\n",
       "      <td>63024780</td>\n",
       "      <td>303476</td>\n",
       "      <td>292.713824</td>\n",
       "      <td>-0.000444</td>\n",
       "      <td>113.90</td>\n",
       "      <td>114.15</td>\n",
       "      <td>113.890</td>\n",
       "      <td>114.13</td>\n",
       "      <td>4661629</td>\n",
       "      <td>11279</td>\n",
       "      <td>114.025187</td>\n",
       "      <td>0.000877</td>\n",
       "    </tr>\n",
       "  </tbody>\n",
       "</table>\n",
       "</div>"
      ],
      "text/plain": [
       "                              SPY                                      \\\n",
       "                             open      high     low   close    volume   \n",
       "timestamp                                                               \n",
       "2019-08-26 04:00:00+00:00  287.24  288.0000  285.58  288.00  72674040   \n",
       "2019-08-27 04:00:00+00:00  289.55  289.9500  286.03  286.87  68307923   \n",
       "2019-08-28 04:00:00+00:00  286.10  289.0700  285.25  288.89  60200590   \n",
       "2019-08-29 04:00:00+00:00  291.77  293.1600  290.61  292.58  58018751   \n",
       "2019-08-30 04:00:00+00:00  294.21  294.2399  291.42  292.45  63024780   \n",
       "\n",
       "                                                                   AGG  \\\n",
       "                          trade_count        vwap daily_return    open   \n",
       "timestamp                                                                \n",
       "2019-08-26 04:00:00+00:00      348875  286.979104          NaN  113.84   \n",
       "2019-08-27 04:00:00+00:00      346860  287.694466    -0.003924  113.91   \n",
       "2019-08-28 04:00:00+00:00      311534  287.877722     0.007042  114.30   \n",
       "2019-08-29 04:00:00+00:00      309986  292.211021     0.012773  114.08   \n",
       "2019-08-30 04:00:00+00:00      303476  292.713824    -0.000444  113.90   \n",
       "\n",
       "                                                                         \\\n",
       "                             high      low   close   volume trade_count   \n",
       "timestamp                                                                 \n",
       "2019-08-26 04:00:00+00:00  113.95  113.670  113.73  5128260       15135   \n",
       "2019-08-27 04:00:00+00:00  114.12  113.870  114.09  3473405        9933   \n",
       "2019-08-28 04:00:00+00:00  114.30  114.040  114.10  5102472       15819   \n",
       "2019-08-29 04:00:00+00:00  114.08  113.835  114.03  2670969       11548   \n",
       "2019-08-30 04:00:00+00:00  114.15  113.890  114.13  4661629       11279   \n",
       "\n",
       "                                                    \n",
       "                                 vwap daily_return  \n",
       "timestamp                                           \n",
       "2019-08-26 04:00:00+00:00  113.784547          NaN  \n",
       "2019-08-27 04:00:00+00:00  114.062880     0.003165  \n",
       "2019-08-28 04:00:00+00:00  114.130072     0.000088  \n",
       "2019-08-29 04:00:00+00:00  113.955831    -0.000613  \n",
       "2019-08-30 04:00:00+00:00  114.025187     0.000877  "
      ]
     },
     "execution_count": 117,
     "metadata": {},
     "output_type": "execute_result"
    }
   ],
   "source": [
    "# Configure a Monte Carlo simulation to forecast 10 years cumulative returns\n",
    "# The weights should be split 20% to AGG and 80% to SPY.\n",
    "# Run 500 samples.\n",
    "MC_ten_years=MCSimulation(\n",
    "    df_portfolio,\n",
    "    weights=[0.8,0.2],\n",
    "    num_simulation=500,\n",
    "    num_trading_days=10*252)\n",
    "\n",
    "# Review the simulation input data\n",
    "MC_ten_years.portfolio_data.head()\n",
    "\n"
   ]
  },
  {
   "cell_type": "code",
   "execution_count": 118,
   "metadata": {},
   "outputs": [
    {
     "name": "stdout",
     "output_type": "stream",
     "text": [
      "Running Monte Carlo simulation number 0.\n",
      "Running Monte Carlo simulation number 10.\n",
      "Running Monte Carlo simulation number 20.\n",
      "Running Monte Carlo simulation number 30.\n",
      "Running Monte Carlo simulation number 40.\n",
      "Running Monte Carlo simulation number 50.\n",
      "Running Monte Carlo simulation number 60.\n",
      "Running Monte Carlo simulation number 70.\n",
      "Running Monte Carlo simulation number 80.\n",
      "Running Monte Carlo simulation number 90.\n",
      "Running Monte Carlo simulation number 100.\n",
      "Running Monte Carlo simulation number 110.\n",
      "Running Monte Carlo simulation number 120.\n",
      "Running Monte Carlo simulation number 130.\n",
      "Running Monte Carlo simulation number 140.\n",
      "Running Monte Carlo simulation number 150.\n",
      "Running Monte Carlo simulation number 160.\n",
      "Running Monte Carlo simulation number 170.\n",
      "Running Monte Carlo simulation number 180.\n",
      "Running Monte Carlo simulation number 190.\n",
      "Running Monte Carlo simulation number 200.\n",
      "Running Monte Carlo simulation number 210.\n",
      "Running Monte Carlo simulation number 220.\n",
      "Running Monte Carlo simulation number 230.\n",
      "Running Monte Carlo simulation number 240.\n",
      "Running Monte Carlo simulation number 250.\n",
      "Running Monte Carlo simulation number 260.\n",
      "Running Monte Carlo simulation number 270.\n",
      "Running Monte Carlo simulation number 280.\n",
      "Running Monte Carlo simulation number 290.\n",
      "Running Monte Carlo simulation number 300.\n",
      "Running Monte Carlo simulation number 310.\n",
      "Running Monte Carlo simulation number 320.\n",
      "Running Monte Carlo simulation number 330.\n",
      "Running Monte Carlo simulation number 340.\n",
      "Running Monte Carlo simulation number 350.\n",
      "Running Monte Carlo simulation number 360.\n",
      "Running Monte Carlo simulation number 370.\n",
      "Running Monte Carlo simulation number 380.\n",
      "Running Monte Carlo simulation number 390.\n",
      "Running Monte Carlo simulation number 400.\n",
      "Running Monte Carlo simulation number 410.\n",
      "Running Monte Carlo simulation number 420.\n",
      "Running Monte Carlo simulation number 430.\n",
      "Running Monte Carlo simulation number 440.\n",
      "Running Monte Carlo simulation number 450.\n",
      "Running Monte Carlo simulation number 460.\n",
      "Running Monte Carlo simulation number 470.\n",
      "Running Monte Carlo simulation number 480.\n",
      "Running Monte Carlo simulation number 490.\n"
     ]
    },
    {
     "data": {
      "text/html": [
       "<div>\n",
       "<style scoped>\n",
       "    .dataframe tbody tr th:only-of-type {\n",
       "        vertical-align: middle;\n",
       "    }\n",
       "\n",
       "    .dataframe tbody tr th {\n",
       "        vertical-align: top;\n",
       "    }\n",
       "\n",
       "    .dataframe thead th {\n",
       "        text-align: right;\n",
       "    }\n",
       "</style>\n",
       "<table border=\"1\" class=\"dataframe\">\n",
       "  <thead>\n",
       "    <tr style=\"text-align: right;\">\n",
       "      <th></th>\n",
       "      <th>0</th>\n",
       "      <th>1</th>\n",
       "      <th>2</th>\n",
       "      <th>3</th>\n",
       "      <th>4</th>\n",
       "      <th>5</th>\n",
       "      <th>6</th>\n",
       "      <th>7</th>\n",
       "      <th>8</th>\n",
       "      <th>9</th>\n",
       "      <th>...</th>\n",
       "      <th>490</th>\n",
       "      <th>491</th>\n",
       "      <th>492</th>\n",
       "      <th>493</th>\n",
       "      <th>494</th>\n",
       "      <th>495</th>\n",
       "      <th>496</th>\n",
       "      <th>497</th>\n",
       "      <th>498</th>\n",
       "      <th>499</th>\n",
       "    </tr>\n",
       "  </thead>\n",
       "  <tbody>\n",
       "    <tr>\n",
       "      <th>0</th>\n",
       "      <td>1.000000</td>\n",
       "      <td>1.000000</td>\n",
       "      <td>1.000000</td>\n",
       "      <td>1.000000</td>\n",
       "      <td>1.000000</td>\n",
       "      <td>1.000000</td>\n",
       "      <td>1.000000</td>\n",
       "      <td>1.000000</td>\n",
       "      <td>1.000000</td>\n",
       "      <td>1.000000</td>\n",
       "      <td>...</td>\n",
       "      <td>1.000000</td>\n",
       "      <td>1.000000</td>\n",
       "      <td>1.000000</td>\n",
       "      <td>1.000000</td>\n",
       "      <td>1.000000</td>\n",
       "      <td>1.000000</td>\n",
       "      <td>1.000000</td>\n",
       "      <td>1.000000</td>\n",
       "      <td>1.000000</td>\n",
       "      <td>1.000000</td>\n",
       "    </tr>\n",
       "    <tr>\n",
       "      <th>1</th>\n",
       "      <td>1.001799</td>\n",
       "      <td>0.999928</td>\n",
       "      <td>1.006875</td>\n",
       "      <td>1.016898</td>\n",
       "      <td>1.009773</td>\n",
       "      <td>1.003412</td>\n",
       "      <td>1.011294</td>\n",
       "      <td>1.038366</td>\n",
       "      <td>0.989107</td>\n",
       "      <td>0.995298</td>\n",
       "      <td>...</td>\n",
       "      <td>0.997031</td>\n",
       "      <td>0.995002</td>\n",
       "      <td>1.011491</td>\n",
       "      <td>0.996491</td>\n",
       "      <td>0.998022</td>\n",
       "      <td>0.978129</td>\n",
       "      <td>0.992600</td>\n",
       "      <td>1.007316</td>\n",
       "      <td>1.018271</td>\n",
       "      <td>1.010614</td>\n",
       "    </tr>\n",
       "    <tr>\n",
       "      <th>2</th>\n",
       "      <td>1.035614</td>\n",
       "      <td>0.995596</td>\n",
       "      <td>1.005775</td>\n",
       "      <td>1.008822</td>\n",
       "      <td>1.014897</td>\n",
       "      <td>1.001240</td>\n",
       "      <td>1.008054</td>\n",
       "      <td>1.033389</td>\n",
       "      <td>1.002675</td>\n",
       "      <td>1.009362</td>\n",
       "      <td>...</td>\n",
       "      <td>0.974370</td>\n",
       "      <td>1.005327</td>\n",
       "      <td>1.004785</td>\n",
       "      <td>0.996146</td>\n",
       "      <td>0.971755</td>\n",
       "      <td>0.971347</td>\n",
       "      <td>1.001799</td>\n",
       "      <td>1.011956</td>\n",
       "      <td>1.008335</td>\n",
       "      <td>1.003889</td>\n",
       "    </tr>\n",
       "    <tr>\n",
       "      <th>3</th>\n",
       "      <td>1.054841</td>\n",
       "      <td>1.002803</td>\n",
       "      <td>1.001296</td>\n",
       "      <td>1.003054</td>\n",
       "      <td>1.010821</td>\n",
       "      <td>1.013208</td>\n",
       "      <td>1.018779</td>\n",
       "      <td>1.032225</td>\n",
       "      <td>0.995999</td>\n",
       "      <td>1.031652</td>\n",
       "      <td>...</td>\n",
       "      <td>0.955197</td>\n",
       "      <td>1.010977</td>\n",
       "      <td>1.022547</td>\n",
       "      <td>1.006884</td>\n",
       "      <td>0.990758</td>\n",
       "      <td>0.976878</td>\n",
       "      <td>1.004512</td>\n",
       "      <td>1.010335</td>\n",
       "      <td>1.013675</td>\n",
       "      <td>0.994154</td>\n",
       "    </tr>\n",
       "    <tr>\n",
       "      <th>4</th>\n",
       "      <td>1.036817</td>\n",
       "      <td>0.994420</td>\n",
       "      <td>1.010028</td>\n",
       "      <td>0.992879</td>\n",
       "      <td>1.007826</td>\n",
       "      <td>1.023458</td>\n",
       "      <td>1.009982</td>\n",
       "      <td>1.043705</td>\n",
       "      <td>0.993127</td>\n",
       "      <td>1.014873</td>\n",
       "      <td>...</td>\n",
       "      <td>0.952015</td>\n",
       "      <td>1.006081</td>\n",
       "      <td>1.032100</td>\n",
       "      <td>0.997135</td>\n",
       "      <td>0.988847</td>\n",
       "      <td>0.977026</td>\n",
       "      <td>0.983128</td>\n",
       "      <td>1.002434</td>\n",
       "      <td>1.023103</td>\n",
       "      <td>0.994435</td>\n",
       "    </tr>\n",
       "    <tr>\n",
       "      <th>...</th>\n",
       "      <td>...</td>\n",
       "      <td>...</td>\n",
       "      <td>...</td>\n",
       "      <td>...</td>\n",
       "      <td>...</td>\n",
       "      <td>...</td>\n",
       "      <td>...</td>\n",
       "      <td>...</td>\n",
       "      <td>...</td>\n",
       "      <td>...</td>\n",
       "      <td>...</td>\n",
       "      <td>...</td>\n",
       "      <td>...</td>\n",
       "      <td>...</td>\n",
       "      <td>...</td>\n",
       "      <td>...</td>\n",
       "      <td>...</td>\n",
       "      <td>...</td>\n",
       "      <td>...</td>\n",
       "      <td>...</td>\n",
       "      <td>...</td>\n",
       "    </tr>\n",
       "    <tr>\n",
       "      <th>2516</th>\n",
       "      <td>1.616215</td>\n",
       "      <td>4.036700</td>\n",
       "      <td>1.782423</td>\n",
       "      <td>4.195742</td>\n",
       "      <td>1.828784</td>\n",
       "      <td>1.624600</td>\n",
       "      <td>1.648820</td>\n",
       "      <td>1.508882</td>\n",
       "      <td>6.889512</td>\n",
       "      <td>1.457895</td>\n",
       "      <td>...</td>\n",
       "      <td>1.157306</td>\n",
       "      <td>2.486576</td>\n",
       "      <td>6.962415</td>\n",
       "      <td>4.872351</td>\n",
       "      <td>1.867759</td>\n",
       "      <td>4.945421</td>\n",
       "      <td>8.877017</td>\n",
       "      <td>14.411099</td>\n",
       "      <td>4.993049</td>\n",
       "      <td>5.948718</td>\n",
       "    </tr>\n",
       "    <tr>\n",
       "      <th>2517</th>\n",
       "      <td>1.589852</td>\n",
       "      <td>4.058210</td>\n",
       "      <td>1.779461</td>\n",
       "      <td>4.247906</td>\n",
       "      <td>1.783448</td>\n",
       "      <td>1.623715</td>\n",
       "      <td>1.652453</td>\n",
       "      <td>1.515864</td>\n",
       "      <td>6.830261</td>\n",
       "      <td>1.465098</td>\n",
       "      <td>...</td>\n",
       "      <td>1.121902</td>\n",
       "      <td>2.523408</td>\n",
       "      <td>6.847336</td>\n",
       "      <td>4.898217</td>\n",
       "      <td>1.873868</td>\n",
       "      <td>4.945997</td>\n",
       "      <td>8.825956</td>\n",
       "      <td>14.378049</td>\n",
       "      <td>5.025812</td>\n",
       "      <td>5.934669</td>\n",
       "    </tr>\n",
       "    <tr>\n",
       "      <th>2518</th>\n",
       "      <td>1.592992</td>\n",
       "      <td>3.998120</td>\n",
       "      <td>1.765638</td>\n",
       "      <td>4.302156</td>\n",
       "      <td>1.798105</td>\n",
       "      <td>1.658809</td>\n",
       "      <td>1.660131</td>\n",
       "      <td>1.486421</td>\n",
       "      <td>6.923257</td>\n",
       "      <td>1.490082</td>\n",
       "      <td>...</td>\n",
       "      <td>1.108727</td>\n",
       "      <td>2.508441</td>\n",
       "      <td>6.789841</td>\n",
       "      <td>4.869912</td>\n",
       "      <td>1.860365</td>\n",
       "      <td>4.956065</td>\n",
       "      <td>8.942870</td>\n",
       "      <td>14.384242</td>\n",
       "      <td>5.029777</td>\n",
       "      <td>5.991823</td>\n",
       "    </tr>\n",
       "    <tr>\n",
       "      <th>2519</th>\n",
       "      <td>1.619590</td>\n",
       "      <td>4.008458</td>\n",
       "      <td>1.778841</td>\n",
       "      <td>4.349119</td>\n",
       "      <td>1.794354</td>\n",
       "      <td>1.665334</td>\n",
       "      <td>1.634430</td>\n",
       "      <td>1.512331</td>\n",
       "      <td>6.828572</td>\n",
       "      <td>1.491150</td>\n",
       "      <td>...</td>\n",
       "      <td>1.111039</td>\n",
       "      <td>2.485343</td>\n",
       "      <td>6.779718</td>\n",
       "      <td>4.789525</td>\n",
       "      <td>1.816306</td>\n",
       "      <td>4.920551</td>\n",
       "      <td>9.148801</td>\n",
       "      <td>14.435868</td>\n",
       "      <td>5.052160</td>\n",
       "      <td>5.902883</td>\n",
       "    </tr>\n",
       "    <tr>\n",
       "      <th>2520</th>\n",
       "      <td>1.621786</td>\n",
       "      <td>3.997081</td>\n",
       "      <td>1.755954</td>\n",
       "      <td>4.356499</td>\n",
       "      <td>1.803342</td>\n",
       "      <td>1.669954</td>\n",
       "      <td>1.655527</td>\n",
       "      <td>1.518786</td>\n",
       "      <td>6.761699</td>\n",
       "      <td>1.499362</td>\n",
       "      <td>...</td>\n",
       "      <td>1.100129</td>\n",
       "      <td>2.484265</td>\n",
       "      <td>6.816361</td>\n",
       "      <td>4.736539</td>\n",
       "      <td>1.833416</td>\n",
       "      <td>4.925968</td>\n",
       "      <td>9.150182</td>\n",
       "      <td>14.677595</td>\n",
       "      <td>5.116552</td>\n",
       "      <td>5.887526</td>\n",
       "    </tr>\n",
       "  </tbody>\n",
       "</table>\n",
       "<p>2521 rows × 500 columns</p>\n",
       "</div>"
      ],
      "text/plain": [
       "           0         1         2         3         4         5         6    \\\n",
       "0     1.000000  1.000000  1.000000  1.000000  1.000000  1.000000  1.000000   \n",
       "1     1.001799  0.999928  1.006875  1.016898  1.009773  1.003412  1.011294   \n",
       "2     1.035614  0.995596  1.005775  1.008822  1.014897  1.001240  1.008054   \n",
       "3     1.054841  1.002803  1.001296  1.003054  1.010821  1.013208  1.018779   \n",
       "4     1.036817  0.994420  1.010028  0.992879  1.007826  1.023458  1.009982   \n",
       "...        ...       ...       ...       ...       ...       ...       ...   \n",
       "2516  1.616215  4.036700  1.782423  4.195742  1.828784  1.624600  1.648820   \n",
       "2517  1.589852  4.058210  1.779461  4.247906  1.783448  1.623715  1.652453   \n",
       "2518  1.592992  3.998120  1.765638  4.302156  1.798105  1.658809  1.660131   \n",
       "2519  1.619590  4.008458  1.778841  4.349119  1.794354  1.665334  1.634430   \n",
       "2520  1.621786  3.997081  1.755954  4.356499  1.803342  1.669954  1.655527   \n",
       "\n",
       "           7         8         9    ...       490       491       492  \\\n",
       "0     1.000000  1.000000  1.000000  ...  1.000000  1.000000  1.000000   \n",
       "1     1.038366  0.989107  0.995298  ...  0.997031  0.995002  1.011491   \n",
       "2     1.033389  1.002675  1.009362  ...  0.974370  1.005327  1.004785   \n",
       "3     1.032225  0.995999  1.031652  ...  0.955197  1.010977  1.022547   \n",
       "4     1.043705  0.993127  1.014873  ...  0.952015  1.006081  1.032100   \n",
       "...        ...       ...       ...  ...       ...       ...       ...   \n",
       "2516  1.508882  6.889512  1.457895  ...  1.157306  2.486576  6.962415   \n",
       "2517  1.515864  6.830261  1.465098  ...  1.121902  2.523408  6.847336   \n",
       "2518  1.486421  6.923257  1.490082  ...  1.108727  2.508441  6.789841   \n",
       "2519  1.512331  6.828572  1.491150  ...  1.111039  2.485343  6.779718   \n",
       "2520  1.518786  6.761699  1.499362  ...  1.100129  2.484265  6.816361   \n",
       "\n",
       "           493       494       495       496        497       498       499  \n",
       "0     1.000000  1.000000  1.000000  1.000000   1.000000  1.000000  1.000000  \n",
       "1     0.996491  0.998022  0.978129  0.992600   1.007316  1.018271  1.010614  \n",
       "2     0.996146  0.971755  0.971347  1.001799   1.011956  1.008335  1.003889  \n",
       "3     1.006884  0.990758  0.976878  1.004512   1.010335  1.013675  0.994154  \n",
       "4     0.997135  0.988847  0.977026  0.983128   1.002434  1.023103  0.994435  \n",
       "...        ...       ...       ...       ...        ...       ...       ...  \n",
       "2516  4.872351  1.867759  4.945421  8.877017  14.411099  4.993049  5.948718  \n",
       "2517  4.898217  1.873868  4.945997  8.825956  14.378049  5.025812  5.934669  \n",
       "2518  4.869912  1.860365  4.956065  8.942870  14.384242  5.029777  5.991823  \n",
       "2519  4.789525  1.816306  4.920551  9.148801  14.435868  5.052160  5.902883  \n",
       "2520  4.736539  1.833416  4.925968  9.150182  14.677595  5.116552  5.887526  \n",
       "\n",
       "[2521 rows x 500 columns]"
      ]
     },
     "execution_count": 118,
     "metadata": {},
     "output_type": "execute_result"
    }
   ],
   "source": [
    "# Run the Monte Carlo simulation to forecast 10 years cumulative returns\n",
    "MC_ten_years.calc_cumulative_return()\n"
   ]
  },
  {
   "cell_type": "code",
   "execution_count": 119,
   "metadata": {},
   "outputs": [
    {
     "data": {
      "text/plain": [
       "<AxesSubplot:title={'center':'500 Simulations of Cumulative Portfolio Return Trajectories Over the Next 2520 Trading Days.'}>"
      ]
     },
     "execution_count": 119,
     "metadata": {},
     "output_type": "execute_result"
    },
    {
     "data": {
      "image/png": "[encoded data removed]",
      "text/plain": [
       "<Figure size 432x288 with 1 Axes>"
      ]
     },
     "metadata": {
      "needs_background": "light"
     },
     "output_type": "display_data"
    }
   ],
   "source": [
    "# Visualize the 10-year Monte Carlo simulation by creating an\n",
    "# overlay line plot\n",
    "MC_ten_years.plot_simulation()\n"
   ]
  },
  {
   "cell_type": "code",
   "execution_count": 120,
   "metadata": {},
   "outputs": [
    {
     "data": {
      "text/plain": [
       "<AxesSubplot:title={'center':'Distribution of Final Cumuluative Returns Across All 500 Simulations'}, ylabel='Frequency'>"
      ]
     },
     "execution_count": 120,
     "metadata": {},
     "output_type": "execute_result"
    },
    {
     "data": {
      "image/png": "[encoded data removed]",
      "text/plain": [
       "<Figure size 432x288 with 1 Axes>"
      ]
     },
     "metadata": {
      "needs_background": "light"
     },
     "output_type": "display_data"
    }
   ],
   "source": [
    "# Visualize the probability distribution of the 10-year Monte Carlo simulation \n",
    "# by plotting a histogram\n",
    "MC_ten_years.plot_distribution()\n"
   ]
  },
  {
   "cell_type": "code",
   "execution_count": 121,
   "metadata": {},
   "outputs": [
    {
     "name": "stdout",
     "output_type": "stream",
     "text": [
      "count           500.000000\n",
      "mean              3.130692\n",
      "std               2.253773\n",
      "min               0.256065\n",
      "25%               1.629652\n",
      "50%               2.483988\n",
      "75%               3.839632\n",
      "max              16.967213\n",
      "95% CI Lower      0.792558\n",
      "95% CI Upper      9.489404\n",
      "Name: 2520, dtype: float64\n"
     ]
    }
   ],
   "source": [
    "# Generate summary statistics from the 10-year Monte Carlo simulation results\n",
    "# Save the results as a variable\n",
    "MC_summary_statistics=MC_ten_years.summarize_cumulative_return()\n",
    "\n",
    "\n",
    "# Review the 10-year Monte Carlo summary statistics\n",
    "print(MC_summary_statistics)"
   ]
  },
  {
   "cell_type": "markdown",
   "metadata": {},
   "source": [
    "### Answer the following questions:"
   ]
  },
  {
   "cell_type": "markdown",
   "metadata": {},
   "source": [
    "#### Question: Using the current value of only the stock and bond portion of the member's portfolio and the summary statistics that you generated from the new Monte Carlo simulation, what are the lower and upper bounds for the expected value of the portfolio (with the new weights) with a 95% confidence interval?"
   ]
  },
  {
   "cell_type": "code",
   "execution_count": 122,
   "metadata": {},
   "outputs": [
    {
     "name": "stdout",
     "output_type": "stream",
     "text": [
      "The current balance of the stock and bond portion of the members portfolio is $65751.70\n"
     ]
    }
   ],
   "source": [
    "# Print the current balance of the stock and bond portion of the members portfolio\n",
    "print(f\"The current balance of the stock and bond portion of the members portfolio is ${total_stocks_bonds:.2f}\")\n"
   ]
  },
  {
   "cell_type": "code",
   "execution_count": 123,
   "metadata": {},
   "outputs": [
    {
     "name": "stdout",
     "output_type": "stream",
     "text": [
      "There is a 95% chance that an initial investment of $65751.70 in the portfolio over the next 10 years will end within in the range of $ 52112.07 and $ 623944.45.\n"
     ]
    }
   ],
   "source": [
    "# Use the lower and upper `95%` confidence intervals to calculate the range of the possible outcomes for the current stock/bond portfolio\n",
    "ci_lower_ten_cumulative_return = MC_summary_statistics[8] * total_stocks_bonds\n",
    "ci_upper_ten_cumulative_return = MC_summary_statistics[9] * total_stocks_bonds\n",
    "\n",
    "# Print the result of your calculations\n",
    "print(f\"There is a 95% chance that an initial investment of ${total_stocks_bonds:.2f} in the portfolio \"\n",
    "    f\"over the next 10 years will end within in the range of\"\n",
    "    f\" ${ci_lower_ten_cumulative_return: .2f} and ${ci_upper_ten_cumulative_return: .2f}.\")\n"
   ]
  },
  {
   "cell_type": "markdown",
   "metadata": {},
   "source": [
    "#### Question: Will weighting the portfolio more heavily to stocks allow the credit union members to retire after only 10 years?"
   ]
  },
  {
   "cell_type": "code",
   "execution_count": 124,
   "metadata": {},
   "outputs": [
    {
     "name": "stdout",
     "output_type": "stream",
     "text": [
      "Yes, with 95% chance weighing the portfolio more heavily to stocks allow members to accumulate over the next 10 years more money (between $ 52112.07 and $ 623944.45) than the emergency fund requires, which is $36000.\n"
     ]
    }
   ],
   "source": [
    "print(f\"Yes, with 95% chance weighing the portfolio more heavily to stocks allow members to accumulate over the next 10 years more money (between ${ci_lower_ten_cumulative_return: .2f} and ${ci_upper_ten_cumulative_return: .2f}) than the emergency fund requires, which is $36000.\")"
   ]
  },
  {
   "cell_type": "code",
   "execution_count": null,
   "metadata": {},
   "outputs": [],
   "source": []
  }
 ],
 "metadata": {
  "kernelspec": {
   "display_name": "Python 3.10.5 64-bit ('myenv')",
   "language": "python",
   "name": "python3"
  },
  "language_info": {
   "codemirror_mode": {
    "name": "ipython",
    "version": 3
   },
   "file_extension": ".py",
   "mimetype": "text/x-python",
   "name": "python",
   "nbconvert_exporter": "python",
   "pygments_lexer": "ipython3",
   "version": "3.10.5"
  },
  "vscode": {
   "interpreter": {
    "hash": "024276540305e579badb0706be1e2bc23d4785372e8fb3a00f3945cae93e712f"
   }
  }
 },
 "nbformat": 4,
 "nbformat_minor": 4
}
